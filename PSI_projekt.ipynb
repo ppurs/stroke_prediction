{
 "cells": [
  {
   "cell_type": "code",
   "execution_count": 1,
   "id": "c0e92804",
   "metadata": {},
   "outputs": [],
   "source": [
    "import numpy as np\n",
    "import pandas as pd\n",
    "from copy import deepcopy\n",
    "from sklearn.model_selection import train_test_split\n",
    "from sklearn.base import BaseEstimator, TransformerMixin\n",
    "from sklearn.impute import SimpleImputer\n",
    "from sklearn.preprocessing import OneHotEncoder, StandardScaler\n",
    "from sklearn.compose import ColumnTransformer\n",
    "from imblearn.pipeline import Pipeline\n",
    "from matplotlib import pyplot as plt\n",
    "from imblearn.over_sampling import SMOTE\n",
    "from imblearn.under_sampling import RandomUnderSampler\n",
    "from sklearn.model_selection import GridSearchCV, StratifiedKFold\n",
    "from sklearn.linear_model import LogisticRegression\n",
    "from sklearn.svm import SVC\n",
    "from sklearn.ensemble import RandomForestClassifier, VotingClassifier\n",
    "from xgboost import XGBClassifier\n",
    "from mlxtend.plotting import plot_decision_regions\n",
    "from sklearn import  metrics\n",
    "import tensorflow as tf\n",
    "from tensorflow import keras\n",
    "from keras import layers\n",
    "from keras.models import Sequential\n",
    "from keras.layers import Dense"
   ]
  },
  {
   "cell_type": "markdown",
   "id": "70d08504",
   "metadata": {},
   "source": [
    "##  **Stroke prediction**\n",
    "Predykcja udaru na podstawie danych: https://www.kaggle.com/datasets/fedesoriano/stroke-prediction-dataset"
   ]
  },
  {
   "cell_type": "code",
   "execution_count": 2,
   "id": "2278eb3d",
   "metadata": {},
   "outputs": [
    {
     "data": {
      "text/html": [
       "<div>\n",
       "<style scoped>\n",
       "    .dataframe tbody tr th:only-of-type {\n",
       "        vertical-align: middle;\n",
       "    }\n",
       "\n",
       "    .dataframe tbody tr th {\n",
       "        vertical-align: top;\n",
       "    }\n",
       "\n",
       "    .dataframe thead th {\n",
       "        text-align: right;\n",
       "    }\n",
       "</style>\n",
       "<table border=\"1\" class=\"dataframe\">\n",
       "  <thead>\n",
       "    <tr style=\"text-align: right;\">\n",
       "      <th></th>\n",
       "      <th>id</th>\n",
       "      <th>gender</th>\n",
       "      <th>age</th>\n",
       "      <th>hypertension</th>\n",
       "      <th>heart_disease</th>\n",
       "      <th>ever_married</th>\n",
       "      <th>work_type</th>\n",
       "      <th>Residence_type</th>\n",
       "      <th>avg_glucose_level</th>\n",
       "      <th>bmi</th>\n",
       "      <th>smoking_status</th>\n",
       "      <th>stroke</th>\n",
       "    </tr>\n",
       "  </thead>\n",
       "  <tbody>\n",
       "    <tr>\n",
       "      <th>0</th>\n",
       "      <td>9046</td>\n",
       "      <td>Male</td>\n",
       "      <td>67.0</td>\n",
       "      <td>0</td>\n",
       "      <td>1</td>\n",
       "      <td>Yes</td>\n",
       "      <td>Private</td>\n",
       "      <td>Urban</td>\n",
       "      <td>228.69</td>\n",
       "      <td>36.6</td>\n",
       "      <td>formerly smoked</td>\n",
       "      <td>1</td>\n",
       "    </tr>\n",
       "    <tr>\n",
       "      <th>1</th>\n",
       "      <td>51676</td>\n",
       "      <td>Female</td>\n",
       "      <td>61.0</td>\n",
       "      <td>0</td>\n",
       "      <td>0</td>\n",
       "      <td>Yes</td>\n",
       "      <td>Self-employed</td>\n",
       "      <td>Rural</td>\n",
       "      <td>202.21</td>\n",
       "      <td>NaN</td>\n",
       "      <td>never smoked</td>\n",
       "      <td>1</td>\n",
       "    </tr>\n",
       "    <tr>\n",
       "      <th>2</th>\n",
       "      <td>31112</td>\n",
       "      <td>Male</td>\n",
       "      <td>80.0</td>\n",
       "      <td>0</td>\n",
       "      <td>1</td>\n",
       "      <td>Yes</td>\n",
       "      <td>Private</td>\n",
       "      <td>Rural</td>\n",
       "      <td>105.92</td>\n",
       "      <td>32.5</td>\n",
       "      <td>never smoked</td>\n",
       "      <td>1</td>\n",
       "    </tr>\n",
       "    <tr>\n",
       "      <th>3</th>\n",
       "      <td>60182</td>\n",
       "      <td>Female</td>\n",
       "      <td>49.0</td>\n",
       "      <td>0</td>\n",
       "      <td>0</td>\n",
       "      <td>Yes</td>\n",
       "      <td>Private</td>\n",
       "      <td>Urban</td>\n",
       "      <td>171.23</td>\n",
       "      <td>34.4</td>\n",
       "      <td>smokes</td>\n",
       "      <td>1</td>\n",
       "    </tr>\n",
       "    <tr>\n",
       "      <th>4</th>\n",
       "      <td>1665</td>\n",
       "      <td>Female</td>\n",
       "      <td>79.0</td>\n",
       "      <td>1</td>\n",
       "      <td>0</td>\n",
       "      <td>Yes</td>\n",
       "      <td>Self-employed</td>\n",
       "      <td>Rural</td>\n",
       "      <td>174.12</td>\n",
       "      <td>24.0</td>\n",
       "      <td>never smoked</td>\n",
       "      <td>1</td>\n",
       "    </tr>\n",
       "  </tbody>\n",
       "</table>\n",
       "</div>"
      ],
      "text/plain": [
       "      id  gender   age  hypertension  heart_disease ever_married  \\\n",
       "0   9046    Male  67.0             0              1          Yes   \n",
       "1  51676  Female  61.0             0              0          Yes   \n",
       "2  31112    Male  80.0             0              1          Yes   \n",
       "3  60182  Female  49.0             0              0          Yes   \n",
       "4   1665  Female  79.0             1              0          Yes   \n",
       "\n",
       "       work_type Residence_type  avg_glucose_level   bmi   smoking_status  \\\n",
       "0        Private          Urban             228.69  36.6  formerly smoked   \n",
       "1  Self-employed          Rural             202.21   NaN     never smoked   \n",
       "2        Private          Rural             105.92  32.5     never smoked   \n",
       "3        Private          Urban             171.23  34.4           smokes   \n",
       "4  Self-employed          Rural             174.12  24.0     never smoked   \n",
       "\n",
       "   stroke  \n",
       "0       1  \n",
       "1       1  \n",
       "2       1  \n",
       "3       1  \n",
       "4       1  "
      ]
     },
     "execution_count": 2,
     "metadata": {},
     "output_type": "execute_result"
    }
   ],
   "source": [
    "data = pd.read_csv('./projekt_dane/healthcare-dataset-stroke-data.csv')\n",
    "data.head()"
   ]
  },
  {
   "cell_type": "code",
   "execution_count": 3,
   "id": "921a22cb",
   "metadata": {},
   "outputs": [
    {
     "data": {
      "text/plain": [
       "id                     int64\n",
       "gender                object\n",
       "age                  float64\n",
       "hypertension           int64\n",
       "heart_disease          int64\n",
       "ever_married          object\n",
       "work_type             object\n",
       "Residence_type        object\n",
       "avg_glucose_level    float64\n",
       "bmi                  float64\n",
       "smoking_status        object\n",
       "stroke                 int64\n",
       "dtype: object"
      ]
     },
     "execution_count": 3,
     "metadata": {},
     "output_type": "execute_result"
    }
   ],
   "source": [
    "data.dtypes"
   ]
  },
  {
   "cell_type": "markdown",
   "id": "21e10d31",
   "metadata": {},
   "source": [
    "Aby lekko ograniczyć i zmniejszyć rozmiar danych, predykcja będzie odbywałą sie tylko dla osób dorosłych (>18lat)"
   ]
  },
  {
   "cell_type": "code",
   "execution_count": 4,
   "id": "4411fb08",
   "metadata": {},
   "outputs": [],
   "source": [
    "data.drop(data[(data.age < 18)].index, inplace=True)"
   ]
  },
  {
   "cell_type": "code",
   "execution_count": 5,
   "id": "a8d2e6fa",
   "metadata": {},
   "outputs": [
    {
     "data": {
      "text/plain": [
       "Private          2791\n",
       "Self-employed     807\n",
       "Govt_job          651\n",
       "Never_worked        5\n",
       "Name: work_type, dtype: int64"
      ]
     },
     "execution_count": 5,
     "metadata": {},
     "output_type": "execute_result"
    }
   ],
   "source": [
    "data['work_type'].value_counts()"
   ]
  },
  {
   "cell_type": "code",
   "execution_count": 6,
   "id": "3672bf0c",
   "metadata": {},
   "outputs": [
    {
     "data": {
      "text/plain": [
       "id                     0\n",
       "gender                 0\n",
       "age                    0\n",
       "hypertension           0\n",
       "heart_disease          0\n",
       "ever_married           0\n",
       "work_type              0\n",
       "Residence_type         0\n",
       "avg_glucose_level      0\n",
       "bmi                  181\n",
       "smoking_status         0\n",
       "stroke                 0\n",
       "dtype: int64"
      ]
     },
     "execution_count": 6,
     "metadata": {},
     "output_type": "execute_result"
    }
   ],
   "source": [
    "data.isnull().sum()"
   ]
  },
  {
   "cell_type": "markdown",
   "id": "d6cfdfa8",
   "metadata": {},
   "source": [
    "Ogólnie rzecz biorąc, według badań bardziej narażone na udar są kobiety - jest to połączone z faktem, że statystycznie są one bardziej narażone na czynniki (społeczne/fizyczne), które mogą do niego doprowadzić."
   ]
  },
  {
   "cell_type": "code",
   "execution_count": 7,
   "id": "732d6da1",
   "metadata": {},
   "outputs": [
    {
     "data": {
      "text/plain": [
       "Female    2576\n",
       "Male      1677\n",
       "Other        1\n",
       "Name: gender, dtype: int64"
      ]
     },
     "execution_count": 7,
     "metadata": {},
     "output_type": "execute_result"
    }
   ],
   "source": [
    "data['gender'].value_counts()"
   ]
  },
  {
   "cell_type": "code",
   "execution_count": 8,
   "id": "32a4463d",
   "metadata": {},
   "outputs": [
    {
     "data": {
      "text/plain": [
       "<Axes: >"
      ]
     },
     "execution_count": 8,
     "metadata": {},
     "output_type": "execute_result"
    },
    {
     "data": {
      "image/png": "[encoded data removed]",
      "text/plain": [
       "<Figure size 640x480 with 1 Axes>"
      ]
     },
     "metadata": {},
     "output_type": "display_data"
    }
   ],
   "source": [
    "data.age.hist()"
   ]
  },
  {
   "cell_type": "markdown",
   "id": "55eeca63",
   "metadata": {},
   "source": [
    "Nadciśnienie jest rozpatrywane jako jeden z głównych czynników mających wpływ na udar.\n",
    "Ponadto ryzyko dla kobiet z nadciśnieniem jest większe."
   ]
  },
  {
   "cell_type": "code",
   "execution_count": 9,
   "id": "f20d4868",
   "metadata": {},
   "outputs": [
    {
     "data": {
      "text/plain": [
       "0    3757\n",
       "1     497\n",
       "Name: hypertension, dtype: int64"
      ]
     },
     "execution_count": 9,
     "metadata": {},
     "output_type": "execute_result"
    }
   ],
   "source": [
    "data['hypertension'].value_counts()"
   ]
  },
  {
   "cell_type": "code",
   "execution_count": 10,
   "id": "a965e725",
   "metadata": {},
   "outputs": [
    {
     "data": {
      "text/plain": [
       "0    3979\n",
       "1     275\n",
       "Name: heart_disease, dtype: int64"
      ]
     },
     "execution_count": 10,
     "metadata": {},
     "output_type": "execute_result"
    }
   ],
   "source": [
    "data['heart_disease'].value_counts()"
   ]
  },
  {
   "cell_type": "markdown",
   "id": "6338f2ad",
   "metadata": {},
   "source": [
    "Statystycznie osoby, które nie były nigdy w związku małżeńskim mają większe ryzyko udaru."
   ]
  },
  {
   "cell_type": "code",
   "execution_count": 11,
   "id": "965f1151",
   "metadata": {},
   "outputs": [
    {
     "data": {
      "text/plain": [
       "Yes    3353\n",
       "No      901\n",
       "Name: ever_married, dtype: int64"
      ]
     },
     "execution_count": 11,
     "metadata": {},
     "output_type": "execute_result"
    }
   ],
   "source": [
    "data['ever_married'].value_counts()"
   ]
  },
  {
   "cell_type": "code",
   "execution_count": 12,
   "id": "ef501747",
   "metadata": {},
   "outputs": [
    {
     "data": {
      "text/plain": [
       "Private          2791\n",
       "Self-employed     807\n",
       "Govt_job          651\n",
       "Never_worked        5\n",
       "Name: work_type, dtype: int64"
      ]
     },
     "execution_count": 12,
     "metadata": {},
     "output_type": "execute_result"
    }
   ],
   "source": [
    "data['work_type'].value_counts()"
   ]
  },
  {
   "cell_type": "code",
   "execution_count": 13,
   "id": "2e8e4230",
   "metadata": {},
   "outputs": [
    {
     "data": {
      "text/plain": [
       "Urban    2169\n",
       "Rural    2085\n",
       "Name: Residence_type, dtype: int64"
      ]
     },
     "execution_count": 13,
     "metadata": {},
     "output_type": "execute_result"
    }
   ],
   "source": [
    "data['Residence_type'].value_counts()"
   ]
  },
  {
   "cell_type": "code",
   "execution_count": 14,
   "id": "9784c3ab",
   "metadata": {},
   "outputs": [
    {
     "data": {
      "text/plain": [
       "never smoked       1752\n",
       "Unknown             862\n",
       "formerly smoked     860\n",
       "smokes              780\n",
       "Name: smoking_status, dtype: int64"
      ]
     },
     "execution_count": 14,
     "metadata": {},
     "output_type": "execute_result"
    }
   ],
   "source": [
    "data['smoking_status'].value_counts()"
   ]
  },
  {
   "cell_type": "code",
   "execution_count": 15,
   "id": "32c6ee5f",
   "metadata": {},
   "outputs": [
    {
     "data": {
      "text/plain": [
       "0    4007\n",
       "1     247\n",
       "Name: stroke, dtype: int64"
      ]
     },
     "execution_count": 15,
     "metadata": {},
     "output_type": "execute_result"
    }
   ],
   "source": [
    "data['stroke'].value_counts()"
   ]
  },
  {
   "cell_type": "code",
   "execution_count": 16,
   "id": "eada0001",
   "metadata": {},
   "outputs": [],
   "source": [
    "data.drop(['id'], axis=1, inplace=True)\n",
    "data.drop(data[(data['gender'] == 'Other')].index, inplace=True)"
   ]
  },
  {
   "cell_type": "markdown",
   "id": "fcaaa08e",
   "metadata": {},
   "source": [
    "Cukrzyca wpływa na ryzyko udaru. Z uwagi na to, że mamy do dyspozycji **średni** poziom cukru we krwi (na podstawie wyników *avg_glucose_level* - zakładam, że glukoza badana była na czczo), klasyfikuję osoby do jednej z 3 grup: \n",
    "- 'w normie' (<=99mg/dL), \n",
    "- 'stan przedcukrzycowy' \\[100mg/dL;125mg/dL\\] , \n",
    "- 'cukrzyca' (>=126mg/dL)"
   ]
  },
  {
   "cell_type": "code",
   "execution_count": 17,
   "id": "36a66a58",
   "metadata": {},
   "outputs": [
    {
     "data": {
      "image/png": "[encoded data removed]",
      "text/plain": [
       "<Figure size 640x480 with 1 Axes>"
      ]
     },
     "metadata": {},
     "output_type": "display_data"
    }
   ],
   "source": [
    "max_gl = max(data.avg_glucose_level)\n",
    "diabete_status = pd.cut(data.avg_glucose_level,bins=[0,99,125,max_gl],labels=['normal','prediabete','diabete'])\n",
    "\n",
    "data['avg_glucose_level'] = diabete_status\n",
    "data.rename(columns={'avg_glucose_level': 'diabete_status'}, inplace=True)\n",
    "\n",
    "plt.hist(diabete_status)\n",
    "plt.show()"
   ]
  },
  {
   "cell_type": "code",
   "execution_count": 18,
   "id": "5716d89b",
   "metadata": {},
   "outputs": [],
   "source": [
    "X = data.drop(['stroke'], axis=1)\n",
    "y = data.stroke\n",
    "\n",
    "X_train, X_test, y_train, y_test = train_test_split(X, y, test_size=0.30, random_state=42)"
   ]
  },
  {
   "cell_type": "code",
   "execution_count": 19,
   "id": "11ca0831",
   "metadata": {},
   "outputs": [
    {
     "data": {
      "text/plain": [
       "<BarContainer object of 1 artists>"
      ]
     },
     "execution_count": 19,
     "metadata": {},
     "output_type": "execute_result"
    },
    {
     "data": {
      "image/png": "[encoded data removed]",
      "text/plain": [
       "<Figure size 640x480 with 1 Axes>"
      ]
     },
     "metadata": {},
     "output_type": "display_data"
    }
   ],
   "source": [
    "fig, ax = plt.subplots()\n",
    "ax.bar(x = '0', height = len(y[y == 0]))\n",
    "ax.bar(x = '1', height = len(y[y == 1]))"
   ]
  },
  {
   "cell_type": "code",
   "execution_count": 20,
   "id": "7f841d03",
   "metadata": {},
   "outputs": [],
   "source": [
    "num_pipeline = Pipeline([\n",
    "        (\"imputer\", SimpleImputer(strategy=\"median\")),\n",
    "    ])"
   ]
  },
  {
   "cell_type": "code",
   "execution_count": 21,
   "id": "0149ad0e",
   "metadata": {},
   "outputs": [],
   "source": [
    "class MostFrequentImputer(BaseEstimator, TransformerMixin):\n",
    "    def fit(self, X, y=None):\n",
    "        self.most_frequent_ = pd.Series([X[c].value_counts().index[0] for c in X],\n",
    "                                        index=X.columns)\n",
    "        return self\n",
    "    def transform(self, X, y=None):\n",
    "        return X.fillna(self.most_frequent_)"
   ]
  },
  {
   "cell_type": "code",
   "execution_count": 22,
   "id": "95d2545d",
   "metadata": {},
   "outputs": [],
   "source": [
    "cat_pipeline = Pipeline([\n",
    "        (\"imputer\", MostFrequentImputer()),\n",
    "        (\"cat_encoder\", OneHotEncoder(sparse_output=False, handle_unknown = 'ignore', dtype='int', drop=\"if_binary\")),\n",
    "    ])"
   ]
  },
  {
   "cell_type": "markdown",
   "id": "f0a3cc81",
   "metadata": {},
   "source": [
    "Palenie papierosów, wg badań, również wywiera duży wpływ na wystąpnienie udaru, zatem jest to dana kluczowa. Co więcej, **palenie bierne wywiera niemalże taki sam wpływ jak czynne.** \\\n",
    "Jako, że autor datasetu nie podaje regionu z jakiego zostały zebrane dane, ciężko wywnioskować jaki może być odsetek osób palących na tym obszarze, a co za tym idzie jak bardzo ludzie narażeni są na bierne wdychanie dymu papierosowego.\n",
    "W jednym z komentarzu znalazłam odniesienie do Bangladeshu, gdzie odsetek palących jest duży (ok 50%), zakładam, że każdy w jakimś stopniu ma kontakt z dymem => wartość 'never smokes' niekoniecznie gwarantuje, że ktoś nie miał tego kontaktu w ogóle.\n",
    "*Zakładam, że 'smokes' oznacza, że ktoś pali regularnie (np. codziennie) w większych ilościach*, czego nie można wprost założyć dla 'nieznanych' danych => w miejsce 'Unknown' wstawiam 'never smokes'."
   ]
  },
  {
   "cell_type": "code",
   "execution_count": 23,
   "id": "ef881e55",
   "metadata": {},
   "outputs": [],
   "source": [
    "class UnknownTransformer(BaseEstimator, TransformerMixin):  \n",
    "    def fit(self, X, y=None):\n",
    "        return self\n",
    "    def transform(self, X, y=None):\n",
    "        _X = X.copy()\n",
    "        _X.loc[X.smoking_status == 'Unknown', 'smoking_status'] = 'never smokes'\n",
    "        return _X"
   ]
  },
  {
   "cell_type": "code",
   "execution_count": 24,
   "id": "a72ac627",
   "metadata": {},
   "outputs": [],
   "source": [
    "smoke_pipeline = Pipeline([\n",
    "        (\"custom_transformer\", UnknownTransformer()),\n",
    "        (\"cat_encoder\", OneHotEncoder(sparse_output=False, handle_unknown = 'ignore', dtype='int'))\n",
    "    ])"
   ]
  },
  {
   "cell_type": "code",
   "execution_count": 25,
   "id": "1d00ae7f",
   "metadata": {},
   "outputs": [],
   "source": [
    "oversample = SMOTE(k_neighbors=5)"
   ]
  },
  {
   "cell_type": "code",
   "execution_count": 26,
   "id": "1f7318e6",
   "metadata": {},
   "outputs": [],
   "source": [
    "#undersample = RandomUnderSampler()"
   ]
  },
  {
   "cell_type": "code",
   "execution_count": 27,
   "id": "58d503a8",
   "metadata": {},
   "outputs": [],
   "source": [
    "def get_col_index(array):\n",
    "    return data.columns.get_indexer(array)"
   ]
  },
  {
   "cell_type": "code",
   "execution_count": 28,
   "id": "e765dd53",
   "metadata": {},
   "outputs": [],
   "source": [
    "preprocess_pipeline = Pipeline([\n",
    "        (\"preprocess\", ColumnTransformer([\n",
    "            (\"num_pipeline\", num_pipeline, get_col_index([\"age\",  \"bmi\"])),\n",
    "            (\"cat_pipeline\", cat_pipeline, get_col_index([\"gender\", \"ever_married\", \"work_type\", \"Residence_type\", \"diabete_status\"])),\n",
    "            (\"smoke_pipeline\", smoke_pipeline, get_col_index([\"smoking_status\"]))\n",
    "        ])),\n",
    "        (\"oversample\", oversample),\n",
    "        #(\"undersample\", undersample),\n",
    "        ('std_scaler', StandardScaler())\n",
    "    ])"
   ]
  },
  {
   "cell_type": "code",
   "execution_count": 29,
   "id": "15156be4",
   "metadata": {},
   "outputs": [
    {
     "data": {
      "text/html": [
       "<style>#sk-container-id-1 {color: black;background-color: white;}#sk-container-id-1 pre{padding: 0;}#sk-container-id-1 div.sk-toggleable {background-color: white;}#sk-container-id-1 label.sk-toggleable__label {cursor: pointer;display: block;width: 100%;margin-bottom: 0;padding: 0.3em;box-sizing: border-box;text-align: center;}#sk-container-id-1 label.sk-toggleable__label-arrow:before {content: \"▸\";float: left;margin-right: 0.25em;color: #696969;}#sk-container-id-1 label.sk-toggleable__label-arrow:hover:before {color: black;}#sk-container-id-1 div.sk-estimator:hover label.sk-toggleable__label-arrow:before {color: black;}#sk-container-id-1 div.sk-toggleable__content {max-height: 0;max-width: 0;overflow: hidden;text-align: left;background-color: #f0f8ff;}#sk-container-id-1 div.sk-toggleable__content pre {margin: 0.2em;color: black;border-radius: 0.25em;background-color: #f0f8ff;}#sk-container-id-1 input.sk-toggleable__control:checked~div.sk-toggleable__content {max-height: 200px;max-width: 100%;overflow: auto;}#sk-container-id-1 input.sk-toggleable__control:checked~label.sk-toggleable__label-arrow:before {content: \"▾\";}#sk-container-id-1 div.sk-estimator input.sk-toggleable__control:checked~label.sk-toggleable__label {background-color: #d4ebff;}#sk-container-id-1 div.sk-label input.sk-toggleable__control:checked~label.sk-toggleable__label {background-color: #d4ebff;}#sk-container-id-1 input.sk-hidden--visually {border: 0;clip: rect(1px 1px 1px 1px);clip: rect(1px, 1px, 1px, 1px);height: 1px;margin: -1px;overflow: hidden;padding: 0;position: absolute;width: 1px;}#sk-container-id-1 div.sk-estimator {font-family: monospace;background-color: #f0f8ff;border: 1px dotted black;border-radius: 0.25em;box-sizing: border-box;margin-bottom: 0.5em;}#sk-container-id-1 div.sk-estimator:hover {background-color: #d4ebff;}#sk-container-id-1 div.sk-parallel-item::after {content: \"\";width: 100%;border-bottom: 1px solid gray;flex-grow: 1;}#sk-container-id-1 div.sk-label:hover label.sk-toggleable__label {background-color: #d4ebff;}#sk-container-id-1 div.sk-serial::before {content: \"\";position: absolute;border-left: 1px solid gray;box-sizing: border-box;top: 0;bottom: 0;left: 50%;z-index: 0;}#sk-container-id-1 div.sk-serial {display: flex;flex-direction: column;align-items: center;background-color: white;padding-right: 0.2em;padding-left: 0.2em;position: relative;}#sk-container-id-1 div.sk-item {position: relative;z-index: 1;}#sk-container-id-1 div.sk-parallel {display: flex;align-items: stretch;justify-content: center;background-color: white;position: relative;}#sk-container-id-1 div.sk-item::before, #sk-container-id-1 div.sk-parallel-item::before {content: \"\";position: absolute;border-left: 1px solid gray;box-sizing: border-box;top: 0;bottom: 0;left: 50%;z-index: -1;}#sk-container-id-1 div.sk-parallel-item {display: flex;flex-direction: column;z-index: 1;position: relative;background-color: white;}#sk-container-id-1 div.sk-parallel-item:first-child::after {align-self: flex-end;width: 50%;}#sk-container-id-1 div.sk-parallel-item:last-child::after {align-self: flex-start;width: 50%;}#sk-container-id-1 div.sk-parallel-item:only-child::after {width: 0;}#sk-container-id-1 div.sk-dashed-wrapped {border: 1px dashed gray;margin: 0 0.4em 0.5em 0.4em;box-sizing: border-box;padding-bottom: 0.4em;background-color: white;}#sk-container-id-1 div.sk-label label {font-family: monospace;font-weight: bold;display: inline-block;line-height: 1.2em;}#sk-container-id-1 div.sk-label-container {text-align: center;}#sk-container-id-1 div.sk-container {/* jupyter's `normalize.less` sets `[hidden] { display: none; }` but bootstrap.min.css set `[hidden] { display: none !important; }` so we also need the `!important` here to be able to override the default hidden behavior on the sphinx rendered scikit-learn.org. See: https://github.com/scikit-learn/scikit-learn/issues/21755 */display: inline-block !important;position: relative;}#sk-container-id-1 div.sk-text-repr-fallback {display: none;}</style><div id=\"sk-container-id-1\" class=\"sk-top-container\"><div class=\"sk-text-repr-fallback\"><pre>Pipeline(steps=[(&#x27;preprocess&#x27;,\n",
       "                 ColumnTransformer(transformers=[(&#x27;num_pipeline&#x27;,\n",
       "                                                  Pipeline(steps=[(&#x27;imputer&#x27;,\n",
       "                                                                   SimpleImputer(strategy=&#x27;median&#x27;))]),\n",
       "                                                  array([1, 8], dtype=int64)),\n",
       "                                                 (&#x27;cat_pipeline&#x27;,\n",
       "                                                  Pipeline(steps=[(&#x27;imputer&#x27;,\n",
       "                                                                   MostFrequentImputer()),\n",
       "                                                                  (&#x27;cat_encoder&#x27;,\n",
       "                                                                   OneHotEncoder(drop=&#x27;if_binary&#x27;,\n",
       "                                                                                 dtype=&#x27;int&#x27;,\n",
       "                                                                                 handle_unknown=&#x27;ignore&#x27;,\n",
       "                                                                                 sparse_output=False))]),\n",
       "                                                  array([0, 4, 5, 6, 7], dtype=int64)),\n",
       "                                                 (&#x27;smoke_pipeline&#x27;,\n",
       "                                                  Pipeline(steps=[(&#x27;custom_transformer&#x27;,\n",
       "                                                                   UnknownTransformer()),\n",
       "                                                                  (&#x27;cat_encoder&#x27;,\n",
       "                                                                   OneHotEncoder(dtype=&#x27;int&#x27;,\n",
       "                                                                                 handle_unknown=&#x27;ignore&#x27;,\n",
       "                                                                                 sparse_output=False))]),\n",
       "                                                  array([9], dtype=int64))])),\n",
       "                (&#x27;oversample&#x27;, SMOTE()), (&#x27;std_scaler&#x27;, StandardScaler())])</pre><b>In a Jupyter environment, please rerun this cell to show the HTML representation or trust the notebook. <br />On GitHub, the HTML representation is unable to render, please try loading this page with nbviewer.org.</b></div><div class=\"sk-container\" hidden><div class=\"sk-item sk-dashed-wrapped\"><div class=\"sk-label-container\"><div class=\"sk-label sk-toggleable\"><input class=\"sk-toggleable__control sk-hidden--visually\" id=\"sk-estimator-id-1\" type=\"checkbox\" ><label for=\"sk-estimator-id-1\" class=\"sk-toggleable__label sk-toggleable__label-arrow\">Pipeline</label><div class=\"sk-toggleable__content\"><pre>Pipeline(steps=[(&#x27;preprocess&#x27;,\n",
       "                 ColumnTransformer(transformers=[(&#x27;num_pipeline&#x27;,\n",
       "                                                  Pipeline(steps=[(&#x27;imputer&#x27;,\n",
       "                                                                   SimpleImputer(strategy=&#x27;median&#x27;))]),\n",
       "                                                  array([1, 8], dtype=int64)),\n",
       "                                                 (&#x27;cat_pipeline&#x27;,\n",
       "                                                  Pipeline(steps=[(&#x27;imputer&#x27;,\n",
       "                                                                   MostFrequentImputer()),\n",
       "                                                                  (&#x27;cat_encoder&#x27;,\n",
       "                                                                   OneHotEncoder(drop=&#x27;if_binary&#x27;,\n",
       "                                                                                 dtype=&#x27;int&#x27;,\n",
       "                                                                                 handle_unknown=&#x27;ignore&#x27;,\n",
       "                                                                                 sparse_output=False))]),\n",
       "                                                  array([0, 4, 5, 6, 7], dtype=int64)),\n",
       "                                                 (&#x27;smoke_pipeline&#x27;,\n",
       "                                                  Pipeline(steps=[(&#x27;custom_transformer&#x27;,\n",
       "                                                                   UnknownTransformer()),\n",
       "                                                                  (&#x27;cat_encoder&#x27;,\n",
       "                                                                   OneHotEncoder(dtype=&#x27;int&#x27;,\n",
       "                                                                                 handle_unknown=&#x27;ignore&#x27;,\n",
       "                                                                                 sparse_output=False))]),\n",
       "                                                  array([9], dtype=int64))])),\n",
       "                (&#x27;oversample&#x27;, SMOTE()), (&#x27;std_scaler&#x27;, StandardScaler())])</pre></div></div></div><div class=\"sk-serial\"><div class=\"sk-item sk-dashed-wrapped\"><div class=\"sk-label-container\"><div class=\"sk-label sk-toggleable\"><input class=\"sk-toggleable__control sk-hidden--visually\" id=\"sk-estimator-id-2\" type=\"checkbox\" ><label for=\"sk-estimator-id-2\" class=\"sk-toggleable__label sk-toggleable__label-arrow\">preprocess: ColumnTransformer</label><div class=\"sk-toggleable__content\"><pre>ColumnTransformer(transformers=[(&#x27;num_pipeline&#x27;,\n",
       "                                 Pipeline(steps=[(&#x27;imputer&#x27;,\n",
       "                                                  SimpleImputer(strategy=&#x27;median&#x27;))]),\n",
       "                                 array([1, 8], dtype=int64)),\n",
       "                                (&#x27;cat_pipeline&#x27;,\n",
       "                                 Pipeline(steps=[(&#x27;imputer&#x27;,\n",
       "                                                  MostFrequentImputer()),\n",
       "                                                 (&#x27;cat_encoder&#x27;,\n",
       "                                                  OneHotEncoder(drop=&#x27;if_binary&#x27;,\n",
       "                                                                dtype=&#x27;int&#x27;,\n",
       "                                                                handle_unknown=&#x27;ignore&#x27;,\n",
       "                                                                sparse_output=False))]),\n",
       "                                 array([0, 4, 5, 6, 7], dtype=int64)),\n",
       "                                (&#x27;smoke_pipeline&#x27;,\n",
       "                                 Pipeline(steps=[(&#x27;custom_transformer&#x27;,\n",
       "                                                  UnknownTransformer()),\n",
       "                                                 (&#x27;cat_encoder&#x27;,\n",
       "                                                  OneHotEncoder(dtype=&#x27;int&#x27;,\n",
       "                                                                handle_unknown=&#x27;ignore&#x27;,\n",
       "                                                                sparse_output=False))]),\n",
       "                                 array([9], dtype=int64))])</pre></div></div></div><div class=\"sk-parallel\"><div class=\"sk-parallel-item\"><div class=\"sk-item\"><div class=\"sk-label-container\"><div class=\"sk-label sk-toggleable\"><input class=\"sk-toggleable__control sk-hidden--visually\" id=\"sk-estimator-id-3\" type=\"checkbox\" ><label for=\"sk-estimator-id-3\" class=\"sk-toggleable__label sk-toggleable__label-arrow\">num_pipeline</label><div class=\"sk-toggleable__content\"><pre>[1 8]</pre></div></div></div><div class=\"sk-serial\"><div class=\"sk-item\"><div class=\"sk-serial\"><div class=\"sk-item\"><div class=\"sk-estimator sk-toggleable\"><input class=\"sk-toggleable__control sk-hidden--visually\" id=\"sk-estimator-id-4\" type=\"checkbox\" ><label for=\"sk-estimator-id-4\" class=\"sk-toggleable__label sk-toggleable__label-arrow\">SimpleImputer</label><div class=\"sk-toggleable__content\"><pre>SimpleImputer(strategy=&#x27;median&#x27;)</pre></div></div></div></div></div></div></div></div><div class=\"sk-parallel-item\"><div class=\"sk-item\"><div class=\"sk-label-container\"><div class=\"sk-label sk-toggleable\"><input class=\"sk-toggleable__control sk-hidden--visually\" id=\"sk-estimator-id-5\" type=\"checkbox\" ><label for=\"sk-estimator-id-5\" class=\"sk-toggleable__label sk-toggleable__label-arrow\">cat_pipeline</label><div class=\"sk-toggleable__content\"><pre>[0 4 5 6 7]</pre></div></div></div><div class=\"sk-serial\"><div class=\"sk-item\"><div class=\"sk-serial\"><div class=\"sk-item\"><div class=\"sk-estimator sk-toggleable\"><input class=\"sk-toggleable__control sk-hidden--visually\" id=\"sk-estimator-id-6\" type=\"checkbox\" ><label for=\"sk-estimator-id-6\" class=\"sk-toggleable__label sk-toggleable__label-arrow\">MostFrequentImputer</label><div class=\"sk-toggleable__content\"><pre>MostFrequentImputer()</pre></div></div></div><div class=\"sk-item\"><div class=\"sk-estimator sk-toggleable\"><input class=\"sk-toggleable__control sk-hidden--visually\" id=\"sk-estimator-id-7\" type=\"checkbox\" ><label for=\"sk-estimator-id-7\" class=\"sk-toggleable__label sk-toggleable__label-arrow\">OneHotEncoder</label><div class=\"sk-toggleable__content\"><pre>OneHotEncoder(drop=&#x27;if_binary&#x27;, dtype=&#x27;int&#x27;, handle_unknown=&#x27;ignore&#x27;,\n",
       "              sparse_output=False)</pre></div></div></div></div></div></div></div></div><div class=\"sk-parallel-item\"><div class=\"sk-item\"><div class=\"sk-label-container\"><div class=\"sk-label sk-toggleable\"><input class=\"sk-toggleable__control sk-hidden--visually\" id=\"sk-estimator-id-8\" type=\"checkbox\" ><label for=\"sk-estimator-id-8\" class=\"sk-toggleable__label sk-toggleable__label-arrow\">smoke_pipeline</label><div class=\"sk-toggleable__content\"><pre>[9]</pre></div></div></div><div class=\"sk-serial\"><div class=\"sk-item\"><div class=\"sk-serial\"><div class=\"sk-item\"><div class=\"sk-estimator sk-toggleable\"><input class=\"sk-toggleable__control sk-hidden--visually\" id=\"sk-estimator-id-9\" type=\"checkbox\" ><label for=\"sk-estimator-id-9\" class=\"sk-toggleable__label sk-toggleable__label-arrow\">UnknownTransformer</label><div class=\"sk-toggleable__content\"><pre>UnknownTransformer()</pre></div></div></div><div class=\"sk-item\"><div class=\"sk-estimator sk-toggleable\"><input class=\"sk-toggleable__control sk-hidden--visually\" id=\"sk-estimator-id-10\" type=\"checkbox\" ><label for=\"sk-estimator-id-10\" class=\"sk-toggleable__label sk-toggleable__label-arrow\">OneHotEncoder</label><div class=\"sk-toggleable__content\"><pre>OneHotEncoder(dtype=&#x27;int&#x27;, handle_unknown=&#x27;ignore&#x27;, sparse_output=False)</pre></div></div></div></div></div></div></div></div></div></div><div class=\"sk-item\"><div class=\"sk-estimator sk-toggleable\"><input class=\"sk-toggleable__control sk-hidden--visually\" id=\"sk-estimator-id-11\" type=\"checkbox\" ><label for=\"sk-estimator-id-11\" class=\"sk-toggleable__label sk-toggleable__label-arrow\">SMOTE</label><div class=\"sk-toggleable__content\"><pre>SMOTE()</pre></div></div></div><div class=\"sk-item\"><div class=\"sk-estimator sk-toggleable\"><input class=\"sk-toggleable__control sk-hidden--visually\" id=\"sk-estimator-id-12\" type=\"checkbox\" ><label for=\"sk-estimator-id-12\" class=\"sk-toggleable__label sk-toggleable__label-arrow\">StandardScaler</label><div class=\"sk-toggleable__content\"><pre>StandardScaler()</pre></div></div></div></div></div></div></div>"
      ],
      "text/plain": [
       "Pipeline(steps=[('preprocess',\n",
       "                 ColumnTransformer(transformers=[('num_pipeline',\n",
       "                                                  Pipeline(steps=[('imputer',\n",
       "                                                                   SimpleImputer(strategy='median'))]),\n",
       "                                                  array([1, 8], dtype=int64)),\n",
       "                                                 ('cat_pipeline',\n",
       "                                                  Pipeline(steps=[('imputer',\n",
       "                                                                   MostFrequentImputer()),\n",
       "                                                                  ('cat_encoder',\n",
       "                                                                   OneHotEncoder(drop='if_binary',\n",
       "                                                                                 dtype='int',\n",
       "                                                                                 handle_unknown='ignore',\n",
       "                                                                                 sparse_output=False))]),\n",
       "                                                  array([0, 4, 5, 6, 7], dtype=int64)),\n",
       "                                                 ('smoke_pipeline',\n",
       "                                                  Pipeline(steps=[('custom_transformer',\n",
       "                                                                   UnknownTransformer()),\n",
       "                                                                  ('cat_encoder',\n",
       "                                                                   OneHotEncoder(dtype='int',\n",
       "                                                                                 handle_unknown='ignore',\n",
       "                                                                                 sparse_output=False))]),\n",
       "                                                  array([9], dtype=int64))])),\n",
       "                ('oversample', SMOTE()), ('std_scaler', StandardScaler())])"
      ]
     },
     "execution_count": 29,
     "metadata": {},
     "output_type": "execute_result"
    }
   ],
   "source": [
    "preprocess_pipeline.fit(X_train, y_train)"
   ]
  },
  {
   "cell_type": "code",
   "execution_count": 30,
   "id": "546eeeb0",
   "metadata": {},
   "outputs": [],
   "source": [
    "kfold = StratifiedKFold(n_splits=5)"
   ]
  },
  {
   "cell_type": "markdown",
   "id": "f399ed98",
   "metadata": {},
   "source": [
    "## Modelowanie \n",
    "\n",
    "    - LogisticRegression\n",
    "    - SVM rbf\n",
    "    - RandomForest\n",
    "    - VotingClassifier (soft; na podstawie 3 powyższych)\n",
    "    - XGBoost"
   ]
  },
  {
   "cell_type": "code",
   "execution_count": 31,
   "id": "2ca0c4e5",
   "metadata": {},
   "outputs": [
    {
     "data": {
      "text/plain": [
       "{'classifier__C': 4}"
      ]
     },
     "execution_count": 31,
     "metadata": {},
     "output_type": "execute_result"
    }
   ],
   "source": [
    "log_pipe = deepcopy(preprocess_pipeline)\n",
    "log_pipe.steps.append(['classifier', LogisticRegression(max_iter=10000)])\n",
    "\n",
    "log_params = { 'classifier__C': [1, 2, 3, 4, 5, 6, 10, 25, 50, 100] }\n",
    "\n",
    "log_clf = GridSearchCV(log_pipe, log_params, cv=kfold, scoring='recall', return_train_score=True)\n",
    "\n",
    "log_clf.fit(X_train, y_train)\n",
    "log_clf.best_params_"
   ]
  },
  {
   "cell_type": "code",
   "execution_count": 32,
   "id": "707c896a",
   "metadata": {},
   "outputs": [
    {
     "data": {
      "text/plain": [
       "{'classifier__C': 0.1, 'classifier__gamma': 0.001}"
      ]
     },
     "execution_count": 32,
     "metadata": {},
     "output_type": "execute_result"
    }
   ],
   "source": [
    "svm_pipe = deepcopy(preprocess_pipeline)\n",
    "svm_pipe.steps.append(['classifier', SVC(probability=True)])\n",
    "\n",
    "svm_params = {'classifier__C': [ 0.001, 0.01, 0.05, 0.1, 1, 10, 100],\n",
    "              'classifier__gamma': [0.001, 0.01, 0.1, 1, 10, 100]}\n",
    "\n",
    "svm_clf = GridSearchCV(svm_pipe, svm_params, cv=kfold, scoring='recall', return_train_score=True)\n",
    "\n",
    "svm_clf.fit(X_train, y_train)\n",
    "svm_clf.best_params_"
   ]
  },
  {
   "cell_type": "code",
   "execution_count": 33,
   "id": "216e6abf",
   "metadata": {},
   "outputs": [
    {
     "data": {
      "text/plain": [
       "{'classifier__max_leaf_nodes': 2, 'classifier__n_estimators': 10}"
      ]
     },
     "execution_count": 33,
     "metadata": {},
     "output_type": "execute_result"
    }
   ],
   "source": [
    "rf_pipe = deepcopy(preprocess_pipeline)\n",
    "rf_pipe.steps.append(['classifier', RandomForestClassifier(n_jobs=-1)])\n",
    "\n",
    "rf_params = {'classifier__n_estimators': [10, 25, 50, 75, 90, 100],\n",
    "             'classifier__max_leaf_nodes': [2, 4, 8, 16, 32, 64] }\n",
    "\n",
    "rf_clf = GridSearchCV(rf_pipe, rf_params, cv=kfold, scoring='recall', return_train_score=True)\n",
    "\n",
    "rf_clf.fit(X_train, y_train)\n",
    "rf_clf.best_params_"
   ]
  },
  {
   "cell_type": "code",
   "execution_count": 34,
   "id": "05c29493",
   "metadata": {},
   "outputs": [
    {
     "data": {
      "text/html": [
       "<style>#sk-container-id-2 {color: black;background-color: white;}#sk-container-id-2 pre{padding: 0;}#sk-container-id-2 div.sk-toggleable {background-color: white;}#sk-container-id-2 label.sk-toggleable__label {cursor: pointer;display: block;width: 100%;margin-bottom: 0;padding: 0.3em;box-sizing: border-box;text-align: center;}#sk-container-id-2 label.sk-toggleable__label-arrow:before {content: \"▸\";float: left;margin-right: 0.25em;color: #696969;}#sk-container-id-2 label.sk-toggleable__label-arrow:hover:before {color: black;}#sk-container-id-2 div.sk-estimator:hover label.sk-toggleable__label-arrow:before {color: black;}#sk-container-id-2 div.sk-toggleable__content {max-height: 0;max-width: 0;overflow: hidden;text-align: left;background-color: #f0f8ff;}#sk-container-id-2 div.sk-toggleable__content pre {margin: 0.2em;color: black;border-radius: 0.25em;background-color: #f0f8ff;}#sk-container-id-2 input.sk-toggleable__control:checked~div.sk-toggleable__content {max-height: 200px;max-width: 100%;overflow: auto;}#sk-container-id-2 input.sk-toggleable__control:checked~label.sk-toggleable__label-arrow:before {content: \"▾\";}#sk-container-id-2 div.sk-estimator input.sk-toggleable__control:checked~label.sk-toggleable__label {background-color: #d4ebff;}#sk-container-id-2 div.sk-label input.sk-toggleable__control:checked~label.sk-toggleable__label {background-color: #d4ebff;}#sk-container-id-2 input.sk-hidden--visually {border: 0;clip: rect(1px 1px 1px 1px);clip: rect(1px, 1px, 1px, 1px);height: 1px;margin: -1px;overflow: hidden;padding: 0;position: absolute;width: 1px;}#sk-container-id-2 div.sk-estimator {font-family: monospace;background-color: #f0f8ff;border: 1px dotted black;border-radius: 0.25em;box-sizing: border-box;margin-bottom: 0.5em;}#sk-container-id-2 div.sk-estimator:hover {background-color: #d4ebff;}#sk-container-id-2 div.sk-parallel-item::after {content: \"\";width: 100%;border-bottom: 1px solid gray;flex-grow: 1;}#sk-container-id-2 div.sk-label:hover label.sk-toggleable__label {background-color: #d4ebff;}#sk-container-id-2 div.sk-serial::before {content: \"\";position: absolute;border-left: 1px solid gray;box-sizing: border-box;top: 0;bottom: 0;left: 50%;z-index: 0;}#sk-container-id-2 div.sk-serial {display: flex;flex-direction: column;align-items: center;background-color: white;padding-right: 0.2em;padding-left: 0.2em;position: relative;}#sk-container-id-2 div.sk-item {position: relative;z-index: 1;}#sk-container-id-2 div.sk-parallel {display: flex;align-items: stretch;justify-content: center;background-color: white;position: relative;}#sk-container-id-2 div.sk-item::before, #sk-container-id-2 div.sk-parallel-item::before {content: \"\";position: absolute;border-left: 1px solid gray;box-sizing: border-box;top: 0;bottom: 0;left: 50%;z-index: -1;}#sk-container-id-2 div.sk-parallel-item {display: flex;flex-direction: column;z-index: 1;position: relative;background-color: white;}#sk-container-id-2 div.sk-parallel-item:first-child::after {align-self: flex-end;width: 50%;}#sk-container-id-2 div.sk-parallel-item:last-child::after {align-self: flex-start;width: 50%;}#sk-container-id-2 div.sk-parallel-item:only-child::after {width: 0;}#sk-container-id-2 div.sk-dashed-wrapped {border: 1px dashed gray;margin: 0 0.4em 0.5em 0.4em;box-sizing: border-box;padding-bottom: 0.4em;background-color: white;}#sk-container-id-2 div.sk-label label {font-family: monospace;font-weight: bold;display: inline-block;line-height: 1.2em;}#sk-container-id-2 div.sk-label-container {text-align: center;}#sk-container-id-2 div.sk-container {/* jupyter's `normalize.less` sets `[hidden] { display: none; }` but bootstrap.min.css set `[hidden] { display: none !important; }` so we also need the `!important` here to be able to override the default hidden behavior on the sphinx rendered scikit-learn.org. See: https://github.com/scikit-learn/scikit-learn/issues/21755 */display: inline-block !important;position: relative;}#sk-container-id-2 div.sk-text-repr-fallback {display: none;}</style><div id=\"sk-container-id-2\" class=\"sk-top-container\"><div class=\"sk-text-repr-fallback\"><pre>VotingClassifier(estimators=[(&#x27;lr&#x27;,\n",
       "                              Pipeline(steps=[(&#x27;preprocess&#x27;,\n",
       "                                               ColumnTransformer(transformers=[(&#x27;num_pipeline&#x27;,\n",
       "                                                                                Pipeline(steps=[(&#x27;imputer&#x27;,\n",
       "                                                                                                 SimpleImputer(strategy=&#x27;median&#x27;))]),\n",
       "                                                                                array([1, 8], dtype=int64)),\n",
       "                                                                               (&#x27;cat_pipeline&#x27;,\n",
       "                                                                                Pipeline(steps=[(&#x27;imputer&#x27;,\n",
       "                                                                                                 MostFrequentImputer()),\n",
       "                                                                                                (&#x27;cat_encoder&#x27;,\n",
       "                                                                                                 OneHotEncoder(drop=&#x27;if_binary&#x27;,\n",
       "                                                                                                               dtype=&#x27;int&#x27;,\n",
       "                                                                                                               handle_unknown=&#x27;ignore&#x27;,...\n",
       "                                                                                array([0, 4, 5, 6, 7], dtype=int64)),\n",
       "                                                                               (&#x27;smoke_pipeline&#x27;,\n",
       "                                                                                Pipeline(steps=[(&#x27;custom_transformer&#x27;,\n",
       "                                                                                                 UnknownTransformer()),\n",
       "                                                                                                (&#x27;cat_encoder&#x27;,\n",
       "                                                                                                 OneHotEncoder(dtype=&#x27;int&#x27;,\n",
       "                                                                                                               handle_unknown=&#x27;ignore&#x27;,\n",
       "                                                                                                               sparse_output=False))]),\n",
       "                                                                                array([9], dtype=int64))])),\n",
       "                                              (&#x27;oversample&#x27;, SMOTE()),\n",
       "                                              (&#x27;std_scaler&#x27;, StandardScaler()),\n",
       "                                              [&#x27;classifier&#x27;,\n",
       "                                               SVC(C=0.1, gamma=0.001,\n",
       "                                                   probability=True)]]))],\n",
       "                 voting=&#x27;soft&#x27;)</pre><b>In a Jupyter environment, please rerun this cell to show the HTML representation or trust the notebook. <br />On GitHub, the HTML representation is unable to render, please try loading this page with nbviewer.org.</b></div><div class=\"sk-container\" hidden><div class=\"sk-item sk-dashed-wrapped\"><div class=\"sk-label-container\"><div class=\"sk-label sk-toggleable\"><input class=\"sk-toggleable__control sk-hidden--visually\" id=\"sk-estimator-id-13\" type=\"checkbox\" ><label for=\"sk-estimator-id-13\" class=\"sk-toggleable__label sk-toggleable__label-arrow\">VotingClassifier</label><div class=\"sk-toggleable__content\"><pre>VotingClassifier(estimators=[(&#x27;lr&#x27;,\n",
       "                              Pipeline(steps=[(&#x27;preprocess&#x27;,\n",
       "                                               ColumnTransformer(transformers=[(&#x27;num_pipeline&#x27;,\n",
       "                                                                                Pipeline(steps=[(&#x27;imputer&#x27;,\n",
       "                                                                                                 SimpleImputer(strategy=&#x27;median&#x27;))]),\n",
       "                                                                                array([1, 8], dtype=int64)),\n",
       "                                                                               (&#x27;cat_pipeline&#x27;,\n",
       "                                                                                Pipeline(steps=[(&#x27;imputer&#x27;,\n",
       "                                                                                                 MostFrequentImputer()),\n",
       "                                                                                                (&#x27;cat_encoder&#x27;,\n",
       "                                                                                                 OneHotEncoder(drop=&#x27;if_binary&#x27;,\n",
       "                                                                                                               dtype=&#x27;int&#x27;,\n",
       "                                                                                                               handle_unknown=&#x27;ignore&#x27;,...\n",
       "                                                                                array([0, 4, 5, 6, 7], dtype=int64)),\n",
       "                                                                               (&#x27;smoke_pipeline&#x27;,\n",
       "                                                                                Pipeline(steps=[(&#x27;custom_transformer&#x27;,\n",
       "                                                                                                 UnknownTransformer()),\n",
       "                                                                                                (&#x27;cat_encoder&#x27;,\n",
       "                                                                                                 OneHotEncoder(dtype=&#x27;int&#x27;,\n",
       "                                                                                                               handle_unknown=&#x27;ignore&#x27;,\n",
       "                                                                                                               sparse_output=False))]),\n",
       "                                                                                array([9], dtype=int64))])),\n",
       "                                              (&#x27;oversample&#x27;, SMOTE()),\n",
       "                                              (&#x27;std_scaler&#x27;, StandardScaler()),\n",
       "                                              [&#x27;classifier&#x27;,\n",
       "                                               SVC(C=0.1, gamma=0.001,\n",
       "                                                   probability=True)]]))],\n",
       "                 voting=&#x27;soft&#x27;)</pre></div></div></div><div class=\"sk-parallel\"><div class=\"sk-parallel-item\"><div class=\"sk-item\"><div class=\"sk-label-container\"><div class=\"sk-label sk-toggleable\"><label>lr</label></div></div><div class=\"sk-serial\"><div class=\"sk-item\"><div class=\"sk-serial\"><div class=\"sk-item sk-dashed-wrapped\"><div class=\"sk-label-container\"><div class=\"sk-label sk-toggleable\"><input class=\"sk-toggleable__control sk-hidden--visually\" id=\"sk-estimator-id-14\" type=\"checkbox\" ><label for=\"sk-estimator-id-14\" class=\"sk-toggleable__label sk-toggleable__label-arrow\">preprocess: ColumnTransformer</label><div class=\"sk-toggleable__content\"><pre>ColumnTransformer(transformers=[(&#x27;num_pipeline&#x27;,\n",
       "                                 Pipeline(steps=[(&#x27;imputer&#x27;,\n",
       "                                                  SimpleImputer(strategy=&#x27;median&#x27;))]),\n",
       "                                 array([1, 8], dtype=int64)),\n",
       "                                (&#x27;cat_pipeline&#x27;,\n",
       "                                 Pipeline(steps=[(&#x27;imputer&#x27;,\n",
       "                                                  MostFrequentImputer()),\n",
       "                                                 (&#x27;cat_encoder&#x27;,\n",
       "                                                  OneHotEncoder(drop=&#x27;if_binary&#x27;,\n",
       "                                                                dtype=&#x27;int&#x27;,\n",
       "                                                                handle_unknown=&#x27;ignore&#x27;,\n",
       "                                                                sparse_output=False))]),\n",
       "                                 array([0, 4, 5, 6, 7], dtype=int64)),\n",
       "                                (&#x27;smoke_pipeline&#x27;,\n",
       "                                 Pipeline(steps=[(&#x27;custom_transformer&#x27;,\n",
       "                                                  UnknownTransformer()),\n",
       "                                                 (&#x27;cat_encoder&#x27;,\n",
       "                                                  OneHotEncoder(dtype=&#x27;int&#x27;,\n",
       "                                                                handle_unknown=&#x27;ignore&#x27;,\n",
       "                                                                sparse_output=False))]),\n",
       "                                 array([9], dtype=int64))])</pre></div></div></div><div class=\"sk-parallel\"><div class=\"sk-parallel-item\"><div class=\"sk-item\"><div class=\"sk-label-container\"><div class=\"sk-label sk-toggleable\"><input class=\"sk-toggleable__control sk-hidden--visually\" id=\"sk-estimator-id-15\" type=\"checkbox\" ><label for=\"sk-estimator-id-15\" class=\"sk-toggleable__label sk-toggleable__label-arrow\">num_pipeline</label><div class=\"sk-toggleable__content\"><pre>[1 8]</pre></div></div></div><div class=\"sk-serial\"><div class=\"sk-item\"><div class=\"sk-serial\"><div class=\"sk-item\"><div class=\"sk-estimator sk-toggleable\"><input class=\"sk-toggleable__control sk-hidden--visually\" id=\"sk-estimator-id-16\" type=\"checkbox\" ><label for=\"sk-estimator-id-16\" class=\"sk-toggleable__label sk-toggleable__label-arrow\">SimpleImputer</label><div class=\"sk-toggleable__content\"><pre>SimpleImputer(strategy=&#x27;median&#x27;)</pre></div></div></div></div></div></div></div></div><div class=\"sk-parallel-item\"><div class=\"sk-item\"><div class=\"sk-label-container\"><div class=\"sk-label sk-toggleable\"><input class=\"sk-toggleable__control sk-hidden--visually\" id=\"sk-estimator-id-17\" type=\"checkbox\" ><label for=\"sk-estimator-id-17\" class=\"sk-toggleable__label sk-toggleable__label-arrow\">cat_pipeline</label><div class=\"sk-toggleable__content\"><pre>[0 4 5 6 7]</pre></div></div></div><div class=\"sk-serial\"><div class=\"sk-item\"><div class=\"sk-serial\"><div class=\"sk-item\"><div class=\"sk-estimator sk-toggleable\"><input class=\"sk-toggleable__control sk-hidden--visually\" id=\"sk-estimator-id-18\" type=\"checkbox\" ><label for=\"sk-estimator-id-18\" class=\"sk-toggleable__label sk-toggleable__label-arrow\">MostFrequentImputer</label><div class=\"sk-toggleable__content\"><pre>MostFrequentImputer()</pre></div></div></div><div class=\"sk-item\"><div class=\"sk-estimator sk-toggleable\"><input class=\"sk-toggleable__control sk-hidden--visually\" id=\"sk-estimator-id-19\" type=\"checkbox\" ><label for=\"sk-estimator-id-19\" class=\"sk-toggleable__label sk-toggleable__label-arrow\">OneHotEncoder</label><div class=\"sk-toggleable__content\"><pre>OneHotEncoder(drop=&#x27;if_binary&#x27;, dtype=&#x27;int&#x27;, handle_unknown=&#x27;ignore&#x27;,\n",
       "              sparse_output=False)</pre></div></div></div></div></div></div></div></div><div class=\"sk-parallel-item\"><div class=\"sk-item\"><div class=\"sk-label-container\"><div class=\"sk-label sk-toggleable\"><input class=\"sk-toggleable__control sk-hidden--visually\" id=\"sk-estimator-id-20\" type=\"checkbox\" ><label for=\"sk-estimator-id-20\" class=\"sk-toggleable__label sk-toggleable__label-arrow\">smoke_pipeline</label><div class=\"sk-toggleable__content\"><pre>[9]</pre></div></div></div><div class=\"sk-serial\"><div class=\"sk-item\"><div class=\"sk-serial\"><div class=\"sk-item\"><div class=\"sk-estimator sk-toggleable\"><input class=\"sk-toggleable__control sk-hidden--visually\" id=\"sk-estimator-id-21\" type=\"checkbox\" ><label for=\"sk-estimator-id-21\" class=\"sk-toggleable__label sk-toggleable__label-arrow\">UnknownTransformer</label><div class=\"sk-toggleable__content\"><pre>UnknownTransformer()</pre></div></div></div><div class=\"sk-item\"><div class=\"sk-estimator sk-toggleable\"><input class=\"sk-toggleable__control sk-hidden--visually\" id=\"sk-estimator-id-22\" type=\"checkbox\" ><label for=\"sk-estimator-id-22\" class=\"sk-toggleable__label sk-toggleable__label-arrow\">OneHotEncoder</label><div class=\"sk-toggleable__content\"><pre>OneHotEncoder(dtype=&#x27;int&#x27;, handle_unknown=&#x27;ignore&#x27;, sparse_output=False)</pre></div></div></div></div></div></div></div></div></div></div><div class=\"sk-item\"><div class=\"sk-estimator sk-toggleable\"><input class=\"sk-toggleable__control sk-hidden--visually\" id=\"sk-estimator-id-23\" type=\"checkbox\" ><label for=\"sk-estimator-id-23\" class=\"sk-toggleable__label sk-toggleable__label-arrow\">SMOTE</label><div class=\"sk-toggleable__content\"><pre>SMOTE()</pre></div></div></div><div class=\"sk-item\"><div class=\"sk-estimator sk-toggleable\"><input class=\"sk-toggleable__control sk-hidden--visually\" id=\"sk-estimator-id-24\" type=\"checkbox\" ><label for=\"sk-estimator-id-24\" class=\"sk-toggleable__label sk-toggleable__label-arrow\">StandardScaler</label><div class=\"sk-toggleable__content\"><pre>StandardScaler()</pre></div></div></div><div class=\"sk-item\"><div class=\"sk-estimator sk-toggleable\"><input class=\"sk-toggleable__control sk-hidden--visually\" id=\"sk-estimator-id-25\" type=\"checkbox\" ><label for=\"sk-estimator-id-25\" class=\"sk-toggleable__label sk-toggleable__label-arrow\">LogisticRegression</label><div class=\"sk-toggleable__content\"><pre>LogisticRegression(C=4, max_iter=10000)</pre></div></div></div></div></div></div></div></div><div class=\"sk-parallel-item\"><div class=\"sk-item\"><div class=\"sk-label-container\"><div class=\"sk-label sk-toggleable\"><label>rf</label></div></div><div class=\"sk-serial\"><div class=\"sk-item\"><div class=\"sk-serial\"><div class=\"sk-item sk-dashed-wrapped\"><div class=\"sk-label-container\"><div class=\"sk-label sk-toggleable\"><input class=\"sk-toggleable__control sk-hidden--visually\" id=\"sk-estimator-id-26\" type=\"checkbox\" ><label for=\"sk-estimator-id-26\" class=\"sk-toggleable__label sk-toggleable__label-arrow\">preprocess: ColumnTransformer</label><div class=\"sk-toggleable__content\"><pre>ColumnTransformer(transformers=[(&#x27;num_pipeline&#x27;,\n",
       "                                 Pipeline(steps=[(&#x27;imputer&#x27;,\n",
       "                                                  SimpleImputer(strategy=&#x27;median&#x27;))]),\n",
       "                                 array([1, 8], dtype=int64)),\n",
       "                                (&#x27;cat_pipeline&#x27;,\n",
       "                                 Pipeline(steps=[(&#x27;imputer&#x27;,\n",
       "                                                  MostFrequentImputer()),\n",
       "                                                 (&#x27;cat_encoder&#x27;,\n",
       "                                                  OneHotEncoder(drop=&#x27;if_binary&#x27;,\n",
       "                                                                dtype=&#x27;int&#x27;,\n",
       "                                                                handle_unknown=&#x27;ignore&#x27;,\n",
       "                                                                sparse_output=False))]),\n",
       "                                 array([0, 4, 5, 6, 7], dtype=int64)),\n",
       "                                (&#x27;smoke_pipeline&#x27;,\n",
       "                                 Pipeline(steps=[(&#x27;custom_transformer&#x27;,\n",
       "                                                  UnknownTransformer()),\n",
       "                                                 (&#x27;cat_encoder&#x27;,\n",
       "                                                  OneHotEncoder(dtype=&#x27;int&#x27;,\n",
       "                                                                handle_unknown=&#x27;ignore&#x27;,\n",
       "                                                                sparse_output=False))]),\n",
       "                                 array([9], dtype=int64))])</pre></div></div></div><div class=\"sk-parallel\"><div class=\"sk-parallel-item\"><div class=\"sk-item\"><div class=\"sk-label-container\"><div class=\"sk-label sk-toggleable\"><input class=\"sk-toggleable__control sk-hidden--visually\" id=\"sk-estimator-id-27\" type=\"checkbox\" ><label for=\"sk-estimator-id-27\" class=\"sk-toggleable__label sk-toggleable__label-arrow\">num_pipeline</label><div class=\"sk-toggleable__content\"><pre>[1 8]</pre></div></div></div><div class=\"sk-serial\"><div class=\"sk-item\"><div class=\"sk-serial\"><div class=\"sk-item\"><div class=\"sk-estimator sk-toggleable\"><input class=\"sk-toggleable__control sk-hidden--visually\" id=\"sk-estimator-id-28\" type=\"checkbox\" ><label for=\"sk-estimator-id-28\" class=\"sk-toggleable__label sk-toggleable__label-arrow\">SimpleImputer</label><div class=\"sk-toggleable__content\"><pre>SimpleImputer(strategy=&#x27;median&#x27;)</pre></div></div></div></div></div></div></div></div><div class=\"sk-parallel-item\"><div class=\"sk-item\"><div class=\"sk-label-container\"><div class=\"sk-label sk-toggleable\"><input class=\"sk-toggleable__control sk-hidden--visually\" id=\"sk-estimator-id-29\" type=\"checkbox\" ><label for=\"sk-estimator-id-29\" class=\"sk-toggleable__label sk-toggleable__label-arrow\">cat_pipeline</label><div class=\"sk-toggleable__content\"><pre>[0 4 5 6 7]</pre></div></div></div><div class=\"sk-serial\"><div class=\"sk-item\"><div class=\"sk-serial\"><div class=\"sk-item\"><div class=\"sk-estimator sk-toggleable\"><input class=\"sk-toggleable__control sk-hidden--visually\" id=\"sk-estimator-id-30\" type=\"checkbox\" ><label for=\"sk-estimator-id-30\" class=\"sk-toggleable__label sk-toggleable__label-arrow\">MostFrequentImputer</label><div class=\"sk-toggleable__content\"><pre>MostFrequentImputer()</pre></div></div></div><div class=\"sk-item\"><div class=\"sk-estimator sk-toggleable\"><input class=\"sk-toggleable__control sk-hidden--visually\" id=\"sk-estimator-id-31\" type=\"checkbox\" ><label for=\"sk-estimator-id-31\" class=\"sk-toggleable__label sk-toggleable__label-arrow\">OneHotEncoder</label><div class=\"sk-toggleable__content\"><pre>OneHotEncoder(drop=&#x27;if_binary&#x27;, dtype=&#x27;int&#x27;, handle_unknown=&#x27;ignore&#x27;,\n",
       "              sparse_output=False)</pre></div></div></div></div></div></div></div></div><div class=\"sk-parallel-item\"><div class=\"sk-item\"><div class=\"sk-label-container\"><div class=\"sk-label sk-toggleable\"><input class=\"sk-toggleable__control sk-hidden--visually\" id=\"sk-estimator-id-32\" type=\"checkbox\" ><label for=\"sk-estimator-id-32\" class=\"sk-toggleable__label sk-toggleable__label-arrow\">smoke_pipeline</label><div class=\"sk-toggleable__content\"><pre>[9]</pre></div></div></div><div class=\"sk-serial\"><div class=\"sk-item\"><div class=\"sk-serial\"><div class=\"sk-item\"><div class=\"sk-estimator sk-toggleable\"><input class=\"sk-toggleable__control sk-hidden--visually\" id=\"sk-estimator-id-33\" type=\"checkbox\" ><label for=\"sk-estimator-id-33\" class=\"sk-toggleable__label sk-toggleable__label-arrow\">UnknownTransformer</label><div class=\"sk-toggleable__content\"><pre>UnknownTransformer()</pre></div></div></div><div class=\"sk-item\"><div class=\"sk-estimator sk-toggleable\"><input class=\"sk-toggleable__control sk-hidden--visually\" id=\"sk-estimator-id-34\" type=\"checkbox\" ><label for=\"sk-estimator-id-34\" class=\"sk-toggleable__label sk-toggleable__label-arrow\">OneHotEncoder</label><div class=\"sk-toggleable__content\"><pre>OneHotEncoder(dtype=&#x27;int&#x27;, handle_unknown=&#x27;ignore&#x27;, sparse_output=False)</pre></div></div></div></div></div></div></div></div></div></div><div class=\"sk-item\"><div class=\"sk-estimator sk-toggleable\"><input class=\"sk-toggleable__control sk-hidden--visually\" id=\"sk-estimator-id-35\" type=\"checkbox\" ><label for=\"sk-estimator-id-35\" class=\"sk-toggleable__label sk-toggleable__label-arrow\">SMOTE</label><div class=\"sk-toggleable__content\"><pre>SMOTE()</pre></div></div></div><div class=\"sk-item\"><div class=\"sk-estimator sk-toggleable\"><input class=\"sk-toggleable__control sk-hidden--visually\" id=\"sk-estimator-id-36\" type=\"checkbox\" ><label for=\"sk-estimator-id-36\" class=\"sk-toggleable__label sk-toggleable__label-arrow\">StandardScaler</label><div class=\"sk-toggleable__content\"><pre>StandardScaler()</pre></div></div></div><div class=\"sk-item\"><div class=\"sk-estimator sk-toggleable\"><input class=\"sk-toggleable__control sk-hidden--visually\" id=\"sk-estimator-id-37\" type=\"checkbox\" ><label for=\"sk-estimator-id-37\" class=\"sk-toggleable__label sk-toggleable__label-arrow\">RandomForestClassifier</label><div class=\"sk-toggleable__content\"><pre>RandomForestClassifier(max_leaf_nodes=2, n_estimators=10, n_jobs=-1)</pre></div></div></div></div></div></div></div></div><div class=\"sk-parallel-item\"><div class=\"sk-item\"><div class=\"sk-label-container\"><div class=\"sk-label sk-toggleable\"><label>svc</label></div></div><div class=\"sk-serial\"><div class=\"sk-item\"><div class=\"sk-serial\"><div class=\"sk-item sk-dashed-wrapped\"><div class=\"sk-label-container\"><div class=\"sk-label sk-toggleable\"><input class=\"sk-toggleable__control sk-hidden--visually\" id=\"sk-estimator-id-38\" type=\"checkbox\" ><label for=\"sk-estimator-id-38\" class=\"sk-toggleable__label sk-toggleable__label-arrow\">preprocess: ColumnTransformer</label><div class=\"sk-toggleable__content\"><pre>ColumnTransformer(transformers=[(&#x27;num_pipeline&#x27;,\n",
       "                                 Pipeline(steps=[(&#x27;imputer&#x27;,\n",
       "                                                  SimpleImputer(strategy=&#x27;median&#x27;))]),\n",
       "                                 array([1, 8], dtype=int64)),\n",
       "                                (&#x27;cat_pipeline&#x27;,\n",
       "                                 Pipeline(steps=[(&#x27;imputer&#x27;,\n",
       "                                                  MostFrequentImputer()),\n",
       "                                                 (&#x27;cat_encoder&#x27;,\n",
       "                                                  OneHotEncoder(drop=&#x27;if_binary&#x27;,\n",
       "                                                                dtype=&#x27;int&#x27;,\n",
       "                                                                handle_unknown=&#x27;ignore&#x27;,\n",
       "                                                                sparse_output=False))]),\n",
       "                                 array([0, 4, 5, 6, 7], dtype=int64)),\n",
       "                                (&#x27;smoke_pipeline&#x27;,\n",
       "                                 Pipeline(steps=[(&#x27;custom_transformer&#x27;,\n",
       "                                                  UnknownTransformer()),\n",
       "                                                 (&#x27;cat_encoder&#x27;,\n",
       "                                                  OneHotEncoder(dtype=&#x27;int&#x27;,\n",
       "                                                                handle_unknown=&#x27;ignore&#x27;,\n",
       "                                                                sparse_output=False))]),\n",
       "                                 array([9], dtype=int64))])</pre></div></div></div><div class=\"sk-parallel\"><div class=\"sk-parallel-item\"><div class=\"sk-item\"><div class=\"sk-label-container\"><div class=\"sk-label sk-toggleable\"><input class=\"sk-toggleable__control sk-hidden--visually\" id=\"sk-estimator-id-39\" type=\"checkbox\" ><label for=\"sk-estimator-id-39\" class=\"sk-toggleable__label sk-toggleable__label-arrow\">num_pipeline</label><div class=\"sk-toggleable__content\"><pre>[1 8]</pre></div></div></div><div class=\"sk-serial\"><div class=\"sk-item\"><div class=\"sk-serial\"><div class=\"sk-item\"><div class=\"sk-estimator sk-toggleable\"><input class=\"sk-toggleable__control sk-hidden--visually\" id=\"sk-estimator-id-40\" type=\"checkbox\" ><label for=\"sk-estimator-id-40\" class=\"sk-toggleable__label sk-toggleable__label-arrow\">SimpleImputer</label><div class=\"sk-toggleable__content\"><pre>SimpleImputer(strategy=&#x27;median&#x27;)</pre></div></div></div></div></div></div></div></div><div class=\"sk-parallel-item\"><div class=\"sk-item\"><div class=\"sk-label-container\"><div class=\"sk-label sk-toggleable\"><input class=\"sk-toggleable__control sk-hidden--visually\" id=\"sk-estimator-id-41\" type=\"checkbox\" ><label for=\"sk-estimator-id-41\" class=\"sk-toggleable__label sk-toggleable__label-arrow\">cat_pipeline</label><div class=\"sk-toggleable__content\"><pre>[0 4 5 6 7]</pre></div></div></div><div class=\"sk-serial\"><div class=\"sk-item\"><div class=\"sk-serial\"><div class=\"sk-item\"><div class=\"sk-estimator sk-toggleable\"><input class=\"sk-toggleable__control sk-hidden--visually\" id=\"sk-estimator-id-42\" type=\"checkbox\" ><label for=\"sk-estimator-id-42\" class=\"sk-toggleable__label sk-toggleable__label-arrow\">MostFrequentImputer</label><div class=\"sk-toggleable__content\"><pre>MostFrequentImputer()</pre></div></div></div><div class=\"sk-item\"><div class=\"sk-estimator sk-toggleable\"><input class=\"sk-toggleable__control sk-hidden--visually\" id=\"sk-estimator-id-43\" type=\"checkbox\" ><label for=\"sk-estimator-id-43\" class=\"sk-toggleable__label sk-toggleable__label-arrow\">OneHotEncoder</label><div class=\"sk-toggleable__content\"><pre>OneHotEncoder(drop=&#x27;if_binary&#x27;, dtype=&#x27;int&#x27;, handle_unknown=&#x27;ignore&#x27;,\n",
       "              sparse_output=False)</pre></div></div></div></div></div></div></div></div><div class=\"sk-parallel-item\"><div class=\"sk-item\"><div class=\"sk-label-container\"><div class=\"sk-label sk-toggleable\"><input class=\"sk-toggleable__control sk-hidden--visually\" id=\"sk-estimator-id-44\" type=\"checkbox\" ><label for=\"sk-estimator-id-44\" class=\"sk-toggleable__label sk-toggleable__label-arrow\">smoke_pipeline</label><div class=\"sk-toggleable__content\"><pre>[9]</pre></div></div></div><div class=\"sk-serial\"><div class=\"sk-item\"><div class=\"sk-serial\"><div class=\"sk-item\"><div class=\"sk-estimator sk-toggleable\"><input class=\"sk-toggleable__control sk-hidden--visually\" id=\"sk-estimator-id-45\" type=\"checkbox\" ><label for=\"sk-estimator-id-45\" class=\"sk-toggleable__label sk-toggleable__label-arrow\">UnknownTransformer</label><div class=\"sk-toggleable__content\"><pre>UnknownTransformer()</pre></div></div></div><div class=\"sk-item\"><div class=\"sk-estimator sk-toggleable\"><input class=\"sk-toggleable__control sk-hidden--visually\" id=\"sk-estimator-id-46\" type=\"checkbox\" ><label for=\"sk-estimator-id-46\" class=\"sk-toggleable__label sk-toggleable__label-arrow\">OneHotEncoder</label><div class=\"sk-toggleable__content\"><pre>OneHotEncoder(dtype=&#x27;int&#x27;, handle_unknown=&#x27;ignore&#x27;, sparse_output=False)</pre></div></div></div></div></div></div></div></div></div></div><div class=\"sk-item\"><div class=\"sk-estimator sk-toggleable\"><input class=\"sk-toggleable__control sk-hidden--visually\" id=\"sk-estimator-id-47\" type=\"checkbox\" ><label for=\"sk-estimator-id-47\" class=\"sk-toggleable__label sk-toggleable__label-arrow\">SMOTE</label><div class=\"sk-toggleable__content\"><pre>SMOTE()</pre></div></div></div><div class=\"sk-item\"><div class=\"sk-estimator sk-toggleable\"><input class=\"sk-toggleable__control sk-hidden--visually\" id=\"sk-estimator-id-48\" type=\"checkbox\" ><label for=\"sk-estimator-id-48\" class=\"sk-toggleable__label sk-toggleable__label-arrow\">StandardScaler</label><div class=\"sk-toggleable__content\"><pre>StandardScaler()</pre></div></div></div><div class=\"sk-item\"><div class=\"sk-estimator sk-toggleable\"><input class=\"sk-toggleable__control sk-hidden--visually\" id=\"sk-estimator-id-49\" type=\"checkbox\" ><label for=\"sk-estimator-id-49\" class=\"sk-toggleable__label sk-toggleable__label-arrow\">SVC</label><div class=\"sk-toggleable__content\"><pre>SVC(C=0.1, gamma=0.001, probability=True)</pre></div></div></div></div></div></div></div></div></div></div></div></div>"
      ],
      "text/plain": [
       "VotingClassifier(estimators=[('lr',\n",
       "                              Pipeline(steps=[('preprocess',\n",
       "                                               ColumnTransformer(transformers=[('num_pipeline',\n",
       "                                                                                Pipeline(steps=[('imputer',\n",
       "                                                                                                 SimpleImputer(strategy='median'))]),\n",
       "                                                                                array([1, 8], dtype=int64)),\n",
       "                                                                               ('cat_pipeline',\n",
       "                                                                                Pipeline(steps=[('imputer',\n",
       "                                                                                                 MostFrequentImputer()),\n",
       "                                                                                                ('cat_encoder',\n",
       "                                                                                                 OneHotEncoder(drop='if_binary',\n",
       "                                                                                                               dtype='int',\n",
       "                                                                                                               handle_unknown='ignore',...\n",
       "                                                                                array([0, 4, 5, 6, 7], dtype=int64)),\n",
       "                                                                               ('smoke_pipeline',\n",
       "                                                                                Pipeline(steps=[('custom_transformer',\n",
       "                                                                                                 UnknownTransformer()),\n",
       "                                                                                                ('cat_encoder',\n",
       "                                                                                                 OneHotEncoder(dtype='int',\n",
       "                                                                                                               handle_unknown='ignore',\n",
       "                                                                                                               sparse_output=False))]),\n",
       "                                                                                array([9], dtype=int64))])),\n",
       "                                              ('oversample', SMOTE()),\n",
       "                                              ('std_scaler', StandardScaler()),\n",
       "                                              ['classifier',\n",
       "                                               SVC(C=0.1, gamma=0.001,\n",
       "                                                   probability=True)]]))],\n",
       "                 voting='soft')"
      ]
     },
     "execution_count": 34,
     "metadata": {},
     "output_type": "execute_result"
    }
   ],
   "source": [
    "voting_clf = VotingClassifier(\n",
    "    estimators=[('lr', log_clf.best_estimator_), ('rf', rf_clf.best_estimator_), ('svc', svm_clf.best_estimator_)], voting='soft')\n",
    "voting_clf.fit(X_train, y_train)"
   ]
  },
  {
   "cell_type": "code",
   "execution_count": 35,
   "id": "ad3a6b98",
   "metadata": {},
   "outputs": [
    {
     "data": {
      "text/plain": [
       "{'classifier__learning_rate': 0.005, 'classifier__n_estimators': 10}"
      ]
     },
     "execution_count": 35,
     "metadata": {},
     "output_type": "execute_result"
    }
   ],
   "source": [
    "xg_pipe = deepcopy(preprocess_pipeline)\n",
    "xg_pipe.steps.append(['classifier', XGBClassifier()])\n",
    "\n",
    "xg_params = {'classifier__n_estimators': [2, 4, 5, 10, 15, 20, 25],\n",
    "             'classifier__learning_rate': [0.001, 0.005, 0.01, 0.05, 0.75, 0.1, 0.25, 0.5]}\n",
    "\n",
    "xg_clf = GridSearchCV(xg_pipe, xg_params, cv=kfold, scoring='recall', return_train_score=True)\n",
    "\n",
    "xg_clf.fit(X_train, y_train)\n",
    "xg_clf.best_params_"
   ]
  },
  {
   "cell_type": "code",
   "execution_count": 36,
   "id": "42084a5d",
   "metadata": {},
   "outputs": [
    {
     "data": {
      "image/png": "[encoded data removed]",
      "text/plain": [
       "<Figure size 640x480 with 1 Axes>"
      ]
     },
     "metadata": {},
     "output_type": "display_data"
    }
   ],
   "source": [
    "models = []\n",
    "models.append(('Logistic regression', log_clf.best_estimator_))\n",
    "models.append(('SVM', svm_clf.best_estimator_))\n",
    "models.append(('Random forest', rf_clf.best_estimator_))\n",
    "models.append(('Soft voting', voting_clf))\n",
    "models.append(('XGB', xg_clf.best_estimator_))\n",
    "\n",
    "\n",
    "precision_score = []\n",
    "recall_score = []\n",
    "f1_score = []\n",
    "accuracy_score = []\n",
    "roc_auc_score = []\n",
    "\n",
    "for name, model in models:\n",
    "        precision_score.append(metrics.precision_score(y_test, model.predict(X_test)))\n",
    "        recall_score.append(metrics.recall_score(y_test, model.predict(X_test)))\n",
    "        f1_score.append( metrics.f1_score(y_test, model.predict(X_test)))\n",
    "        accuracy_score.append(metrics.accuracy_score(y_test, model.predict(X_test)))\n",
    "\n",
    "        probs = model.predict_proba(X_test)\n",
    "        preds = probs[:,1]\n",
    "        fpr, tpr, threshold = metrics.roc_curve(y_test, preds)\n",
    "        roc_auc = metrics.auc(fpr, tpr)\n",
    "        roc_auc_score.append(roc_auc)\n",
    "\n",
    "        plt.title('Receiver Operating Characteristic')\n",
    "        plt.plot(fpr, tpr, label = '%s AUC = %0.10f' % (name, roc_auc))\n",
    "        plt.legend(loc = 'lower right')\n",
    "        plt.plot([0.0, 1.0], [0, 1],'r--')\n",
    "        plt.xlim([0.0, 1.0])\n",
    "        plt.ylim([0.0, 1.1])\n",
    "        plt.ylabel('True Positive Rate')\n",
    "        plt.xlabel('False Positive Rate')\n",
    "\n",
    "plt.show()"
   ]
  },
  {
   "cell_type": "code",
   "execution_count": 37,
   "id": "84850ffd",
   "metadata": {},
   "outputs": [
    {
     "data": {
      "text/html": [
       "<div>\n",
       "<style scoped>\n",
       "    .dataframe tbody tr th:only-of-type {\n",
       "        vertical-align: middle;\n",
       "    }\n",
       "\n",
       "    .dataframe tbody tr th {\n",
       "        vertical-align: top;\n",
       "    }\n",
       "\n",
       "    .dataframe thead th {\n",
       "        text-align: right;\n",
       "    }\n",
       "</style>\n",
       "<table border=\"1\" class=\"dataframe\">\n",
       "  <thead>\n",
       "    <tr style=\"text-align: right;\">\n",
       "      <th></th>\n",
       "      <th>Method</th>\n",
       "      <th>precision_score</th>\n",
       "      <th>recall_score</th>\n",
       "      <th>f1_score</th>\n",
       "      <th>accuracy_score</th>\n",
       "      <th>roc_auc</th>\n",
       "    </tr>\n",
       "  </thead>\n",
       "  <tbody>\n",
       "    <tr>\n",
       "      <th>0</th>\n",
       "      <td>Logistic regression</td>\n",
       "      <td>0.167849</td>\n",
       "      <td>0.845238</td>\n",
       "      <td>0.280079</td>\n",
       "      <td>0.713950</td>\n",
       "      <td>0.837034</td>\n",
       "    </tr>\n",
       "    <tr>\n",
       "      <th>1</th>\n",
       "      <td>SVM</td>\n",
       "      <td>0.133462</td>\n",
       "      <td>0.821429</td>\n",
       "      <td>0.229617</td>\n",
       "      <td>0.637147</td>\n",
       "      <td>0.811386</td>\n",
       "    </tr>\n",
       "    <tr>\n",
       "      <th>2</th>\n",
       "      <td>Random forest</td>\n",
       "      <td>0.153061</td>\n",
       "      <td>0.535714</td>\n",
       "      <td>0.238095</td>\n",
       "      <td>0.774295</td>\n",
       "      <td>0.744602</td>\n",
       "    </tr>\n",
       "    <tr>\n",
       "      <th>3</th>\n",
       "      <td>Soft voting</td>\n",
       "      <td>0.163121</td>\n",
       "      <td>0.821429</td>\n",
       "      <td>0.272189</td>\n",
       "      <td>0.710815</td>\n",
       "      <td>0.825668</td>\n",
       "    </tr>\n",
       "    <tr>\n",
       "      <th>4</th>\n",
       "      <td>XGB</td>\n",
       "      <td>0.117647</td>\n",
       "      <td>0.095238</td>\n",
       "      <td>0.105263</td>\n",
       "      <td>0.893417</td>\n",
       "      <td>0.739239</td>\n",
       "    </tr>\n",
       "  </tbody>\n",
       "</table>\n",
       "</div>"
      ],
      "text/plain": [
       "                Method  precision_score  recall_score  f1_score  \\\n",
       "0  Logistic regression         0.167849      0.845238  0.280079   \n",
       "1                  SVM         0.133462      0.821429  0.229617   \n",
       "2        Random forest         0.153061      0.535714  0.238095   \n",
       "3          Soft voting         0.163121      0.821429  0.272189   \n",
       "4                  XGB         0.117647      0.095238  0.105263   \n",
       "\n",
       "   accuracy_score   roc_auc  \n",
       "0        0.713950  0.837034  \n",
       "1        0.637147  0.811386  \n",
       "2        0.774295  0.744602  \n",
       "3        0.710815  0.825668  \n",
       "4        0.893417  0.739239  "
      ]
     },
     "execution_count": 37,
     "metadata": {},
     "output_type": "execute_result"
    }
   ],
   "source": [
    "d = {'precision_score': precision_score, \n",
    "     'recall_score': recall_score, \n",
    "     'f1_score': f1_score,\n",
    "     'accuracy_score' : accuracy_score,\n",
    "     'roc_auc': roc_auc_score\n",
    "    }\n",
    "\n",
    "df = pd.DataFrame(data=d)\n",
    "df.insert(loc=0, column='Method', value=['Logistic regression', 'SVM', 'Random forest', 'Soft voting', 'XGB' ])\n",
    "df"
   ]
  },
  {
   "cell_type": "markdown",
   "id": "f2fa7fa8",
   "metadata": {},
   "source": [
    "### Podsumowanie\n",
    "\n",
    "Ze względu na to, że przewidujemy zagrożenie życia udare, postanowiłam kierować się metryką **recall** - GridSearch z scoring ustawionym na *accuracy* jak i *f1* wybierał klasyfikatory z presision oraz recal na poziomie 0.1.\n",
    "\n",
    "Z powyższych danych (na podstawie f1-score i roc_auc) wynika, że najlepiej poradził sobie model regresji logistycznej, a zaraz za nią model przewidujący na podstawie prawdopodobieństw z regresji, SVM i RandomForest.\n",
    "\n",
    "Zwracając uwagę na warość accuracy najlepiej wypada XGBoost, jednakże patrząc na metrykę f1-score czy roc-auc, wynik jest zdecydowanie najgorszy. Recall również utrzymuje się na najniższym poziomie\n",
    "Presision w każdym modelu utrzymuje się na podobnym poziomie - przekłamywanie pozytywnych wyników, co jeszcze nas nie martwi - lepiej, żeby kilku pacjentów więcej się porządnie przebadało niż dostało udaru."
   ]
  },
  {
   "cell_type": "markdown",
   "id": "2f847759",
   "metadata": {},
   "source": [
    "## Sieci neuronowe"
   ]
  },
  {
   "cell_type": "code",
   "execution_count": 29,
   "id": "f7c50420",
   "metadata": {},
   "outputs": [],
   "source": [
    "X_train_n, X_valid_n, y_train_n, y_valid_n = train_test_split(X_train, y_train, test_size=0.10, random_state=42)"
   ]
  },
  {
   "cell_type": "code",
   "execution_count": 30,
   "id": "e0f2744b",
   "metadata": {},
   "outputs": [],
   "source": [
    "from sklearn.pipeline import Pipeline as PipelineSk\n",
    "\n",
    "keras_preprocess_pipeline = PipelineSk([\n",
    "        (\"preprocess\", ColumnTransformer([\n",
    "            (\"num_pipeline\", num_pipeline, get_col_index([\"age\",  \"bmi\"])),\n",
    "            (\"cat_pipeline\", cat_pipeline, get_col_index([\"gender\", \"ever_married\", \"work_type\", \"Residence_type\", \"diabete_status\"])),\n",
    "            (\"smoke_pipeline\", smoke_pipeline, get_col_index([\"smoking_status\"]))\n",
    "        ])),\n",
    "    ])"
   ]
  },
  {
   "cell_type": "code",
   "execution_count": 31,
   "id": "a5b76465",
   "metadata": {},
   "outputs": [],
   "source": [
    "process = keras_preprocess_pipeline.fit(X_train_n)\n",
    "X_train_processed = process.transform(X_train_n)\n",
    "X_valid_processed = process.transform(X_valid_n)\n",
    "X_test_processed = process.transform(X_test)\n",
    "\n",
    "X_train_processed, y_train_n = oversample.fit_resample(X_train_processed, y_train_n)\n",
    "#X_train_processed, y_train = undersample.fit_resample(X_train_processed, y_train)\n",
    "\n",
    "scaler = StandardScaler()\n",
    "scaler.fit(X_train_processed)\n",
    "X_train_scaled = scaler.transform(X_train_processed)\n",
    "X_valid_scaled = scaler.transform(X_valid_processed)\n",
    "X_test_scaled = scaler.transform(X_test_processed)"
   ]
  },
  {
   "cell_type": "code",
   "execution_count": 32,
   "id": "6da62dfc",
   "metadata": {},
   "outputs": [],
   "source": [
    "def CreateModel_1():\n",
    "    model = Sequential([\n",
    "        layers.Dense(25, activation='relu', input_dim=X_train_scaled.shape[1]),\n",
    "        layers.Dense(10, activation='relu'),\n",
    "        layers.Dense(1, activation='sigmoid')\n",
    "    ])\n",
    "    model.summary()\n",
    "\n",
    "    model.compile(optimizer=\"Adam\", loss='binary_crossentropy', metrics=['accuracy'])\n",
    "\n",
    "    return model"
   ]
  },
  {
   "cell_type": "code",
   "execution_count": 33,
   "id": "f87fecc6",
   "metadata": {},
   "outputs": [
    {
     "name": "stdout",
     "output_type": "stream",
     "text": [
      "Model: \"sequential\"\n",
      "_________________________________________________________________\n",
      " Layer (type)                Output Shape              Param #   \n",
      "=================================================================\n",
      " dense (Dense)               (None, 25)                425       \n",
      "                                                                 \n",
      " dense_1 (Dense)             (None, 10)                260       \n",
      "                                                                 \n",
      " dense_2 (Dense)             (None, 1)                 11        \n",
      "                                                                 \n",
      "=================================================================\n",
      "Total params: 696\n",
      "Trainable params: 696\n",
      "Non-trainable params: 0\n",
      "_________________________________________________________________\n",
      "Epoch 1/30\n",
      "316/316 [==============================] - 3s 4ms/step - loss: 0.5487 - accuracy: 0.7166 - val_loss: 0.4403 - val_accuracy: 0.7584\n",
      "Epoch 2/30\n",
      "316/316 [==============================] - 1s 3ms/step - loss: 0.4791 - accuracy: 0.7658 - val_loss: 0.4360 - val_accuracy: 0.7651\n",
      "Epoch 3/30\n",
      "316/316 [==============================] - 1s 3ms/step - loss: 0.4459 - accuracy: 0.7872 - val_loss: 0.4438 - val_accuracy: 0.7651\n",
      "Epoch 4/30\n",
      "316/316 [==============================] - 1s 3ms/step - loss: 0.4171 - accuracy: 0.8030 - val_loss: 0.4209 - val_accuracy: 0.7852\n",
      "Epoch 5/30\n",
      "316/316 [==============================] - 1s 3ms/step - loss: 0.3927 - accuracy: 0.8196 - val_loss: 0.4530 - val_accuracy: 0.7785\n",
      "Epoch 6/30\n",
      "316/316 [==============================] - 1s 3ms/step - loss: 0.3686 - accuracy: 0.8386 - val_loss: 0.4217 - val_accuracy: 0.7886\n",
      "Epoch 7/30\n",
      "316/316 [==============================] - 1s 3ms/step - loss: 0.3465 - accuracy: 0.8517 - val_loss: 0.4065 - val_accuracy: 0.7919\n",
      "Epoch 8/30\n",
      "316/316 [==============================] - 1s 3ms/step - loss: 0.3258 - accuracy: 0.8570 - val_loss: 0.3808 - val_accuracy: 0.7987\n",
      "Epoch 9/30\n",
      "316/316 [==============================] - 1s 3ms/step - loss: 0.3063 - accuracy: 0.8712 - val_loss: 0.3615 - val_accuracy: 0.8322\n",
      "Epoch 10/30\n",
      "316/316 [==============================] - 1s 3ms/step - loss: 0.2891 - accuracy: 0.8813 - val_loss: 0.3687 - val_accuracy: 0.8356\n",
      "Epoch 11/30\n",
      "316/316 [==============================] - 1s 3ms/step - loss: 0.2705 - accuracy: 0.8900 - val_loss: 0.3331 - val_accuracy: 0.8624\n",
      "Epoch 12/30\n",
      "316/316 [==============================] - 1s 3ms/step - loss: 0.2526 - accuracy: 0.8997 - val_loss: 0.3688 - val_accuracy: 0.8255\n",
      "Epoch 13/30\n",
      "316/316 [==============================] - 1s 3ms/step - loss: 0.2421 - accuracy: 0.9013 - val_loss: 0.3466 - val_accuracy: 0.8456\n",
      "Epoch 14/30\n",
      "316/316 [==============================] - 1s 3ms/step - loss: 0.2296 - accuracy: 0.9084 - val_loss: 0.3475 - val_accuracy: 0.8557\n",
      "Epoch 15/30\n",
      "316/316 [==============================] - 1s 3ms/step - loss: 0.2190 - accuracy: 0.9148 - val_loss: 0.3386 - val_accuracy: 0.8624\n",
      "Epoch 16/30\n",
      "316/316 [==============================] - 1s 3ms/step - loss: 0.2086 - accuracy: 0.9193 - val_loss: 0.4021 - val_accuracy: 0.8188\n",
      "Epoch 17/30\n",
      "316/316 [==============================] - 1s 3ms/step - loss: 0.2019 - accuracy: 0.9221 - val_loss: 0.3649 - val_accuracy: 0.8389\n",
      "Epoch 18/30\n",
      "316/316 [==============================] - 1s 3ms/step - loss: 0.1946 - accuracy: 0.9217 - val_loss: 0.3276 - val_accuracy: 0.8691\n",
      "Epoch 19/30\n",
      "316/316 [==============================] - 1s 3ms/step - loss: 0.1872 - accuracy: 0.9292 - val_loss: 0.4012 - val_accuracy: 0.8322\n",
      "Epoch 20/30\n",
      "316/316 [==============================] - 1s 3ms/step - loss: 0.1825 - accuracy: 0.9274 - val_loss: 0.3744 - val_accuracy: 0.8490\n",
      "Epoch 21/30\n",
      "316/316 [==============================] - 1s 3ms/step - loss: 0.1792 - accuracy: 0.9284 - val_loss: 0.3649 - val_accuracy: 0.8691\n",
      "Epoch 22/30\n",
      "316/316 [==============================] - 1s 3ms/step - loss: 0.1732 - accuracy: 0.9316 - val_loss: 0.3427 - val_accuracy: 0.8624\n",
      "Epoch 23/30\n",
      "316/316 [==============================] - 1s 3ms/step - loss: 0.1689 - accuracy: 0.9314 - val_loss: 0.3305 - val_accuracy: 0.8993\n",
      "Epoch 24/30\n",
      "316/316 [==============================] - 1s 3ms/step - loss: 0.1665 - accuracy: 0.9330 - val_loss: 0.3626 - val_accuracy: 0.8591\n",
      "Epoch 25/30\n",
      "316/316 [==============================] - 1s 3ms/step - loss: 0.1634 - accuracy: 0.9324 - val_loss: 0.4338 - val_accuracy: 0.8356\n",
      "Epoch 26/30\n",
      "316/316 [==============================] - 1s 3ms/step - loss: 0.1621 - accuracy: 0.9367 - val_loss: 0.3476 - val_accuracy: 0.8826\n",
      "Epoch 27/30\n",
      "316/316 [==============================] - 1s 3ms/step - loss: 0.1579 - accuracy: 0.9373 - val_loss: 0.3788 - val_accuracy: 0.8725\n",
      "Epoch 28/30\n",
      "316/316 [==============================] - 1s 3ms/step - loss: 0.1547 - accuracy: 0.9371 - val_loss: 0.3940 - val_accuracy: 0.8591\n",
      "Epoch 29/30\n",
      "316/316 [==============================] - 1s 3ms/step - loss: 0.1505 - accuracy: 0.9397 - val_loss: 0.3867 - val_accuracy: 0.8557\n",
      "Epoch 30/30\n",
      "316/316 [==============================] - 1s 3ms/step - loss: 0.1499 - accuracy: 0.9367 - val_loss: 0.3738 - val_accuracy: 0.8758\n"
     ]
    }
   ],
   "source": [
    "model = CreateModel_1()\n",
    "history = model.fit(X_train_scaled, y_train_n, validation_data= (X_valid_scaled, y_valid_n), batch_size=16, epochs=30)"
   ]
  },
  {
   "cell_type": "code",
   "execution_count": 34,
   "id": "585f10b3",
   "metadata": {},
   "outputs": [
    {
     "data": {
      "image/png": "[encoded data removed]",
      "text/plain": [
       "<Figure size 640x480 with 1 Axes>"
      ]
     },
     "metadata": {},
     "output_type": "display_data"
    }
   ],
   "source": [
    "plt.plot(history.history['accuracy'], label = \"accuracy train\")\n",
    "plt.plot(history.history['val_accuracy'], label = \"accuracy test\")\n",
    "plt.plot(history.history['loss'], label = \"loss train\")\n",
    "plt.plot(history.history['val_loss'], label = \"loss test\")\n",
    "\n",
    "plt.legend()\n",
    "plt.show()"
   ]
  },
  {
   "cell_type": "code",
   "execution_count": 35,
   "id": "83cc4c3f",
   "metadata": {},
   "outputs": [
    {
     "name": "stdout",
     "output_type": "stream",
     "text": [
      "40/40 [==============================] - 0s 3ms/step - loss: 0.3491 - accuracy: 0.8817\n"
     ]
    },
    {
     "data": {
      "text/plain": [
       "[0.3490734398365021, 0.8816614151000977]"
      ]
     },
     "execution_count": 35,
     "metadata": {},
     "output_type": "execute_result"
    }
   ],
   "source": [
    "model.evaluate(X_test_scaled, y_test)"
   ]
  },
  {
   "cell_type": "code",
   "execution_count": 36,
   "id": "9198a0be",
   "metadata": {},
   "outputs": [
    {
     "name": "stdout",
     "output_type": "stream",
     "text": [
      "40/40 [==============================] - 0s 2ms/step\n"
     ]
    },
    {
     "data": {
      "text/plain": [
       "0.8816614420062696"
      ]
     },
     "execution_count": 36,
     "metadata": {},
     "output_type": "execute_result"
    }
   ],
   "source": [
    "metrics.accuracy_score(y_true= y_test, y_pred= (model.predict(X_test_scaled) > 0.5).astype(\"int32\") )"
   ]
  },
  {
   "cell_type": "code",
   "execution_count": 65,
   "id": "87f649b0",
   "metadata": {},
   "outputs": [],
   "source": [
    "def CreateModel_2():\n",
    "    model = Sequential([\n",
    "        layers.Dense(23, input_dim=X_train_scaled.shape[1]),\n",
    "        layers.BatchNormalization(),\n",
    "        layers.Activation(\"relu\"),\n",
    "        layers.Dropout(0.3),\n",
    "        layers.Dense(10),\n",
    "        layers.BatchNormalization(),\n",
    "        layers.Activation(\"relu\"),\n",
    "        layers.Dropout(0.3),\n",
    "        layers.Dense(10),\n",
    "        layers.BatchNormalization(),\n",
    "        layers.Activation(\"relu\"),\n",
    "        layers.Dropout(0.3),\n",
    "        layers.Dense(5),\n",
    "        layers.BatchNormalization(),\n",
    "        layers.Activation(\"relu\"),\n",
    "        layers.Dropout(0.3),\n",
    "        layers.Dense(1, activation='sigmoid')\n",
    "    ])\n",
    "\n",
    "    model.compile(optimizer=\"Adam\", loss='binary_crossentropy', metrics=['accuracy'])\n",
    "\n",
    "    return model"
   ]
  },
  {
   "cell_type": "code",
   "execution_count": 78,
   "id": "79936ff2",
   "metadata": {},
   "outputs": [
    {
     "name": "stdout",
     "output_type": "stream",
     "text": [
      "Epoch 1/400\n",
      "158/158 [==============================] - 6s 8ms/step - loss: 0.7326 - accuracy: 0.5283 - val_loss: 0.6738 - val_accuracy: 0.4262\n",
      "Epoch 2/400\n",
      "158/158 [==============================] - 1s 6ms/step - loss: 0.6873 - accuracy: 0.5682 - val_loss: 0.6351 - val_accuracy: 0.5000\n",
      "Epoch 3/400\n",
      "158/158 [==============================] - 1s 6ms/step - loss: 0.6577 - accuracy: 0.6153 - val_loss: 0.5998 - val_accuracy: 0.5436\n",
      "Epoch 4/400\n",
      "158/158 [==============================] - 1s 5ms/step - loss: 0.6498 - accuracy: 0.6189 - val_loss: 0.5778 - val_accuracy: 0.5671\n",
      "Epoch 5/400\n",
      "158/158 [==============================] - 1s 6ms/step - loss: 0.6324 - accuracy: 0.6398 - val_loss: 0.5752 - val_accuracy: 0.5638\n",
      "Epoch 6/400\n",
      "158/158 [==============================] - 1s 6ms/step - loss: 0.6156 - accuracy: 0.6509 - val_loss: 0.5676 - val_accuracy: 0.5671\n",
      "Epoch 7/400\n",
      "158/158 [==============================] - 1s 5ms/step - loss: 0.5979 - accuracy: 0.6683 - val_loss: 0.5684 - val_accuracy: 0.5872\n",
      "Epoch 8/400\n",
      "158/158 [==============================] - 1s 6ms/step - loss: 0.5843 - accuracy: 0.6948 - val_loss: 0.5705 - val_accuracy: 0.5973\n",
      "Epoch 9/400\n",
      "158/158 [==============================] - 1s 6ms/step - loss: 0.5781 - accuracy: 0.7110 - val_loss: 0.5340 - val_accuracy: 0.6376\n",
      "Epoch 10/400\n",
      "158/158 [==============================] - 1s 6ms/step - loss: 0.5805 - accuracy: 0.7108 - val_loss: 0.5331 - val_accuracy: 0.6443\n",
      "Epoch 11/400\n",
      "158/158 [==============================] - 1s 5ms/step - loss: 0.5625 - accuracy: 0.7225 - val_loss: 0.5277 - val_accuracy: 0.6577\n",
      "Epoch 12/400\n",
      "158/158 [==============================] - 1s 5ms/step - loss: 0.5648 - accuracy: 0.7221 - val_loss: 0.5271 - val_accuracy: 0.6611\n",
      "Epoch 13/400\n",
      "158/158 [==============================] - 1s 6ms/step - loss: 0.5503 - accuracy: 0.7369 - val_loss: 0.5120 - val_accuracy: 0.6812\n",
      "Epoch 14/400\n",
      "158/158 [==============================] - 1s 6ms/step - loss: 0.5514 - accuracy: 0.7354 - val_loss: 0.5001 - val_accuracy: 0.7047\n",
      "Epoch 15/400\n",
      "158/158 [==============================] - 1s 6ms/step - loss: 0.5395 - accuracy: 0.7462 - val_loss: 0.4924 - val_accuracy: 0.7114\n",
      "Epoch 16/400\n",
      "158/158 [==============================] - 1s 7ms/step - loss: 0.5328 - accuracy: 0.7423 - val_loss: 0.5006 - val_accuracy: 0.6879\n",
      "Epoch 17/400\n",
      "158/158 [==============================] - 1s 6ms/step - loss: 0.5391 - accuracy: 0.7534 - val_loss: 0.4874 - val_accuracy: 0.7047\n",
      "Epoch 18/400\n",
      "158/158 [==============================] - 1s 6ms/step - loss: 0.5323 - accuracy: 0.7524 - val_loss: 0.4698 - val_accuracy: 0.7215\n",
      "Epoch 19/400\n",
      "158/158 [==============================] - 1s 6ms/step - loss: 0.5304 - accuracy: 0.7625 - val_loss: 0.4783 - val_accuracy: 0.7047\n",
      "Epoch 20/400\n",
      "158/158 [==============================] - 1s 6ms/step - loss: 0.5220 - accuracy: 0.7605 - val_loss: 0.4737 - val_accuracy: 0.7148\n",
      "Epoch 21/400\n",
      "158/158 [==============================] - 1s 6ms/step - loss: 0.5231 - accuracy: 0.7571 - val_loss: 0.4718 - val_accuracy: 0.7181\n",
      "Epoch 22/400\n",
      "158/158 [==============================] - 1s 5ms/step - loss: 0.5129 - accuracy: 0.7688 - val_loss: 0.4642 - val_accuracy: 0.7282\n",
      "Epoch 23/400\n",
      "158/158 [==============================] - 1s 6ms/step - loss: 0.5108 - accuracy: 0.7676 - val_loss: 0.4563 - val_accuracy: 0.7349\n",
      "Epoch 24/400\n",
      "158/158 [==============================] - 1s 6ms/step - loss: 0.5152 - accuracy: 0.7633 - val_loss: 0.4644 - val_accuracy: 0.7416\n",
      "Epoch 25/400\n",
      "158/158 [==============================] - 1s 5ms/step - loss: 0.5114 - accuracy: 0.7642 - val_loss: 0.4605 - val_accuracy: 0.7282\n",
      "Epoch 26/400\n",
      "158/158 [==============================] - 1s 6ms/step - loss: 0.5105 - accuracy: 0.7678 - val_loss: 0.4513 - val_accuracy: 0.7349\n",
      "Epoch 27/400\n",
      "158/158 [==============================] - 1s 6ms/step - loss: 0.4965 - accuracy: 0.7769 - val_loss: 0.4553 - val_accuracy: 0.7383\n",
      "Epoch 28/400\n",
      "158/158 [==============================] - 1s 6ms/step - loss: 0.5046 - accuracy: 0.7741 - val_loss: 0.4507 - val_accuracy: 0.7248\n",
      "Epoch 29/400\n",
      "158/158 [==============================] - 1s 6ms/step - loss: 0.5038 - accuracy: 0.7714 - val_loss: 0.4484 - val_accuracy: 0.7450\n",
      "Epoch 30/400\n",
      "158/158 [==============================] - 1s 6ms/step - loss: 0.4918 - accuracy: 0.7791 - val_loss: 0.4571 - val_accuracy: 0.7450\n",
      "Epoch 31/400\n",
      "158/158 [==============================] - 1s 6ms/step - loss: 0.4897 - accuracy: 0.7858 - val_loss: 0.4381 - val_accuracy: 0.7651\n",
      "Epoch 32/400\n",
      "158/158 [==============================] - 1s 6ms/step - loss: 0.5041 - accuracy: 0.7763 - val_loss: 0.4300 - val_accuracy: 0.7718\n",
      "Epoch 33/400\n",
      "158/158 [==============================] - 1s 6ms/step - loss: 0.4882 - accuracy: 0.7799 - val_loss: 0.4425 - val_accuracy: 0.7483\n",
      "Epoch 34/400\n",
      "158/158 [==============================] - 1s 5ms/step - loss: 0.4870 - accuracy: 0.7803 - val_loss: 0.4344 - val_accuracy: 0.7550\n",
      "Epoch 35/400\n",
      "158/158 [==============================] - 1s 6ms/step - loss: 0.4809 - accuracy: 0.7811 - val_loss: 0.4322 - val_accuracy: 0.7584\n",
      "Epoch 36/400\n",
      "158/158 [==============================] - 1s 6ms/step - loss: 0.4808 - accuracy: 0.7838 - val_loss: 0.4233 - val_accuracy: 0.7584\n",
      "Epoch 37/400\n",
      "158/158 [==============================] - 1s 6ms/step - loss: 0.4791 - accuracy: 0.7870 - val_loss: 0.4072 - val_accuracy: 0.7752\n",
      "Epoch 38/400\n",
      "158/158 [==============================] - 1s 6ms/step - loss: 0.4996 - accuracy: 0.7716 - val_loss: 0.4215 - val_accuracy: 0.7550\n",
      "Epoch 39/400\n",
      "158/158 [==============================] - 1s 6ms/step - loss: 0.4829 - accuracy: 0.7834 - val_loss: 0.4143 - val_accuracy: 0.7685\n",
      "Epoch 40/400\n",
      "158/158 [==============================] - 1s 6ms/step - loss: 0.4773 - accuracy: 0.7903 - val_loss: 0.4193 - val_accuracy: 0.7584\n",
      "Epoch 41/400\n",
      "158/158 [==============================] - 1s 6ms/step - loss: 0.4787 - accuracy: 0.7872 - val_loss: 0.4191 - val_accuracy: 0.7685\n",
      "Epoch 42/400\n",
      "158/158 [==============================] - 1s 6ms/step - loss: 0.4803 - accuracy: 0.7830 - val_loss: 0.4160 - val_accuracy: 0.7718\n",
      "Epoch 43/400\n",
      "158/158 [==============================] - 1s 6ms/step - loss: 0.4622 - accuracy: 0.7923 - val_loss: 0.4011 - val_accuracy: 0.7819\n",
      "Epoch 44/400\n",
      "158/158 [==============================] - 1s 6ms/step - loss: 0.4768 - accuracy: 0.7830 - val_loss: 0.4118 - val_accuracy: 0.7651\n",
      "Epoch 45/400\n",
      "158/158 [==============================] - 1s 6ms/step - loss: 0.4701 - accuracy: 0.7902 - val_loss: 0.3980 - val_accuracy: 0.7752\n",
      "Epoch 46/400\n",
      "158/158 [==============================] - 1s 6ms/step - loss: 0.4708 - accuracy: 0.7850 - val_loss: 0.4167 - val_accuracy: 0.7550\n",
      "Epoch 47/400\n",
      "158/158 [==============================] - 1s 6ms/step - loss: 0.4708 - accuracy: 0.7858 - val_loss: 0.4017 - val_accuracy: 0.7651\n",
      "Epoch 48/400\n",
      "158/158 [==============================] - 1s 6ms/step - loss: 0.4574 - accuracy: 0.7992 - val_loss: 0.4099 - val_accuracy: 0.7584\n",
      "Epoch 49/400\n",
      "158/158 [==============================] - 1s 6ms/step - loss: 0.4702 - accuracy: 0.7890 - val_loss: 0.3945 - val_accuracy: 0.7617\n",
      "Epoch 50/400\n",
      "158/158 [==============================] - 1s 6ms/step - loss: 0.4661 - accuracy: 0.7919 - val_loss: 0.3906 - val_accuracy: 0.7718\n",
      "Epoch 51/400\n",
      "158/158 [==============================] - 1s 6ms/step - loss: 0.4495 - accuracy: 0.8006 - val_loss: 0.3883 - val_accuracy: 0.7685\n",
      "Epoch 52/400\n",
      "158/158 [==============================] - 1s 5ms/step - loss: 0.4750 - accuracy: 0.7903 - val_loss: 0.4008 - val_accuracy: 0.7752\n",
      "Epoch 53/400\n",
      "158/158 [==============================] - 1s 6ms/step - loss: 0.4515 - accuracy: 0.7989 - val_loss: 0.4022 - val_accuracy: 0.7685\n",
      "Epoch 54/400\n",
      "158/158 [==============================] - 1s 6ms/step - loss: 0.4569 - accuracy: 0.7987 - val_loss: 0.3908 - val_accuracy: 0.7752\n",
      "Epoch 55/400\n",
      "158/158 [==============================] - 1s 6ms/step - loss: 0.4580 - accuracy: 0.7935 - val_loss: 0.3914 - val_accuracy: 0.7584\n",
      "Epoch 56/400\n",
      "158/158 [==============================] - 1s 6ms/step - loss: 0.4574 - accuracy: 0.7977 - val_loss: 0.3865 - val_accuracy: 0.7718\n",
      "Epoch 57/400\n",
      "158/158 [==============================] - 1s 6ms/step - loss: 0.4424 - accuracy: 0.8080 - val_loss: 0.3829 - val_accuracy: 0.7752\n"
     ]
    },
    {
     "name": "stdout",
     "output_type": "stream",
     "text": [
      "Epoch 58/400\n",
      "158/158 [==============================] - 1s 5ms/step - loss: 0.4606 - accuracy: 0.7902 - val_loss: 0.3632 - val_accuracy: 0.7819\n",
      "Epoch 59/400\n",
      "158/158 [==============================] - 1s 5ms/step - loss: 0.4465 - accuracy: 0.8024 - val_loss: 0.3798 - val_accuracy: 0.7785\n",
      "Epoch 60/400\n",
      "158/158 [==============================] - 1s 5ms/step - loss: 0.4606 - accuracy: 0.7979 - val_loss: 0.3773 - val_accuracy: 0.7819\n",
      "Epoch 61/400\n",
      "158/158 [==============================] - 1s 6ms/step - loss: 0.4455 - accuracy: 0.8032 - val_loss: 0.3768 - val_accuracy: 0.7953\n",
      "Epoch 62/400\n",
      "158/158 [==============================] - 1s 6ms/step - loss: 0.4546 - accuracy: 0.7996 - val_loss: 0.3720 - val_accuracy: 0.8020\n",
      "Epoch 63/400\n",
      "158/158 [==============================] - 1s 9ms/step - loss: 0.4623 - accuracy: 0.7931 - val_loss: 0.3629 - val_accuracy: 0.8054\n",
      "Epoch 64/400\n",
      "158/158 [==============================] - 1s 5ms/step - loss: 0.4530 - accuracy: 0.7959 - val_loss: 0.3784 - val_accuracy: 0.7919\n",
      "Epoch 65/400\n",
      "158/158 [==============================] - 1s 5ms/step - loss: 0.4476 - accuracy: 0.7957 - val_loss: 0.3740 - val_accuracy: 0.8121\n",
      "Epoch 66/400\n",
      "158/158 [==============================] - 1s 5ms/step - loss: 0.4498 - accuracy: 0.7983 - val_loss: 0.3542 - val_accuracy: 0.8154\n",
      "Epoch 67/400\n",
      "158/158 [==============================] - 1s 5ms/step - loss: 0.4507 - accuracy: 0.8002 - val_loss: 0.3625 - val_accuracy: 0.7953\n",
      "Epoch 68/400\n",
      "158/158 [==============================] - 1s 5ms/step - loss: 0.4517 - accuracy: 0.8046 - val_loss: 0.3751 - val_accuracy: 0.7953\n",
      "Epoch 69/400\n",
      "158/158 [==============================] - 1s 6ms/step - loss: 0.4516 - accuracy: 0.8016 - val_loss: 0.3606 - val_accuracy: 0.7987\n",
      "Epoch 70/400\n",
      "158/158 [==============================] - 1s 5ms/step - loss: 0.4459 - accuracy: 0.8078 - val_loss: 0.3676 - val_accuracy: 0.8020\n",
      "Epoch 71/400\n",
      "158/158 [==============================] - 1s 7ms/step - loss: 0.4427 - accuracy: 0.8105 - val_loss: 0.3560 - val_accuracy: 0.8020\n",
      "Epoch 72/400\n",
      "158/158 [==============================] - 1s 8ms/step - loss: 0.4406 - accuracy: 0.8083 - val_loss: 0.3546 - val_accuracy: 0.7987\n",
      "Epoch 73/400\n",
      "158/158 [==============================] - 1s 6ms/step - loss: 0.4440 - accuracy: 0.8058 - val_loss: 0.3517 - val_accuracy: 0.7987\n",
      "Epoch 74/400\n",
      "158/158 [==============================] - 1s 6ms/step - loss: 0.4549 - accuracy: 0.8012 - val_loss: 0.3631 - val_accuracy: 0.8020\n",
      "Epoch 75/400\n",
      "158/158 [==============================] - 1s 7ms/step - loss: 0.4425 - accuracy: 0.8074 - val_loss: 0.3547 - val_accuracy: 0.8221\n",
      "Epoch 76/400\n",
      "158/158 [==============================] - 2s 10ms/step - loss: 0.4397 - accuracy: 0.8103 - val_loss: 0.3699 - val_accuracy: 0.7953\n",
      "Epoch 77/400\n",
      "158/158 [==============================] - 1s 8ms/step - loss: 0.4366 - accuracy: 0.8034 - val_loss: 0.3523 - val_accuracy: 0.7886\n",
      "Epoch 78/400\n",
      "158/158 [==============================] - 1s 6ms/step - loss: 0.4372 - accuracy: 0.8119 - val_loss: 0.3666 - val_accuracy: 0.7919\n",
      "Epoch 79/400\n",
      "158/158 [==============================] - 1s 6ms/step - loss: 0.4536 - accuracy: 0.8008 - val_loss: 0.3630 - val_accuracy: 0.7919\n",
      "Epoch 80/400\n",
      "158/158 [==============================] - 1s 8ms/step - loss: 0.4451 - accuracy: 0.8074 - val_loss: 0.3526 - val_accuracy: 0.8121\n",
      "Epoch 81/400\n",
      "158/158 [==============================] - 1s 7ms/step - loss: 0.4393 - accuracy: 0.8182 - val_loss: 0.3695 - val_accuracy: 0.8020\n",
      "Epoch 82/400\n",
      "158/158 [==============================] - 1s 6ms/step - loss: 0.4534 - accuracy: 0.8058 - val_loss: 0.3512 - val_accuracy: 0.8255\n",
      "Epoch 83/400\n",
      "158/158 [==============================] - 2s 10ms/step - loss: 0.4396 - accuracy: 0.8085 - val_loss: 0.3589 - val_accuracy: 0.8121\n",
      "Epoch 84/400\n",
      "158/158 [==============================] - 1s 7ms/step - loss: 0.4329 - accuracy: 0.8111 - val_loss: 0.3523 - val_accuracy: 0.8221\n",
      "Epoch 85/400\n",
      "158/158 [==============================] - 1s 7ms/step - loss: 0.4353 - accuracy: 0.8161 - val_loss: 0.3421 - val_accuracy: 0.8221\n",
      "Epoch 86/400\n",
      "158/158 [==============================] - 1s 6ms/step - loss: 0.4398 - accuracy: 0.8105 - val_loss: 0.3517 - val_accuracy: 0.8087\n",
      "Epoch 87/400\n",
      "158/158 [==============================] - 1s 8ms/step - loss: 0.4343 - accuracy: 0.8058 - val_loss: 0.3495 - val_accuracy: 0.8255\n",
      "Epoch 88/400\n",
      "158/158 [==============================] - 1s 6ms/step - loss: 0.4403 - accuracy: 0.8081 - val_loss: 0.3458 - val_accuracy: 0.8188\n",
      "Epoch 89/400\n",
      "158/158 [==============================] - 1s 6ms/step - loss: 0.4408 - accuracy: 0.7992 - val_loss: 0.3479 - val_accuracy: 0.8054\n",
      "Epoch 90/400\n",
      "158/158 [==============================] - 1s 7ms/step - loss: 0.4352 - accuracy: 0.8129 - val_loss: 0.3375 - val_accuracy: 0.8255\n",
      "Epoch 91/400\n",
      "158/158 [==============================] - 1s 6ms/step - loss: 0.4458 - accuracy: 0.8066 - val_loss: 0.3368 - val_accuracy: 0.8255\n",
      "Epoch 92/400\n",
      "158/158 [==============================] - 1s 5ms/step - loss: 0.4261 - accuracy: 0.8151 - val_loss: 0.3324 - val_accuracy: 0.8322\n",
      "Epoch 93/400\n",
      "158/158 [==============================] - 1s 7ms/step - loss: 0.4425 - accuracy: 0.8087 - val_loss: 0.3508 - val_accuracy: 0.8121\n",
      "Epoch 94/400\n",
      "158/158 [==============================] - 1s 7ms/step - loss: 0.4410 - accuracy: 0.8141 - val_loss: 0.3399 - val_accuracy: 0.8121\n",
      "Epoch 95/400\n",
      "158/158 [==============================] - 1s 5ms/step - loss: 0.4381 - accuracy: 0.8141 - val_loss: 0.3360 - val_accuracy: 0.8154\n",
      "Epoch 96/400\n",
      "158/158 [==============================] - 1s 5ms/step - loss: 0.4361 - accuracy: 0.8111 - val_loss: 0.3294 - val_accuracy: 0.8289\n",
      "Epoch 97/400\n",
      "158/158 [==============================] - 1s 8ms/step - loss: 0.4397 - accuracy: 0.8115 - val_loss: 0.3355 - val_accuracy: 0.8221\n",
      "Epoch 98/400\n",
      "158/158 [==============================] - 1s 6ms/step - loss: 0.4419 - accuracy: 0.8113 - val_loss: 0.3387 - val_accuracy: 0.8087\n",
      "Epoch 99/400\n",
      "158/158 [==============================] - 1s 6ms/step - loss: 0.4442 - accuracy: 0.8066 - val_loss: 0.3419 - val_accuracy: 0.8154\n",
      "Epoch 100/400\n",
      "158/158 [==============================] - 1s 6ms/step - loss: 0.4341 - accuracy: 0.8107 - val_loss: 0.3335 - val_accuracy: 0.8255\n",
      "Epoch 101/400\n",
      "158/158 [==============================] - 1s 5ms/step - loss: 0.4468 - accuracy: 0.8085 - val_loss: 0.3277 - val_accuracy: 0.8322\n",
      "Epoch 102/400\n",
      "158/158 [==============================] - 1s 6ms/step - loss: 0.4251 - accuracy: 0.8208 - val_loss: 0.3322 - val_accuracy: 0.8356\n",
      "Epoch 103/400\n",
      "158/158 [==============================] - 1s 6ms/step - loss: 0.4233 - accuracy: 0.8167 - val_loss: 0.3298 - val_accuracy: 0.8356\n",
      "Epoch 104/400\n",
      "158/158 [==============================] - 1s 5ms/step - loss: 0.4309 - accuracy: 0.8093 - val_loss: 0.3223 - val_accuracy: 0.8356\n",
      "Epoch 105/400\n",
      "158/158 [==============================] - 1s 5ms/step - loss: 0.4442 - accuracy: 0.7987 - val_loss: 0.3553 - val_accuracy: 0.8255\n",
      "Epoch 106/400\n",
      "158/158 [==============================] - 1s 5ms/step - loss: 0.4348 - accuracy: 0.8216 - val_loss: 0.3365 - val_accuracy: 0.8289\n",
      "Epoch 107/400\n",
      "158/158 [==============================] - 1s 5ms/step - loss: 0.4445 - accuracy: 0.8074 - val_loss: 0.3302 - val_accuracy: 0.8255\n",
      "Epoch 108/400\n",
      "158/158 [==============================] - 1s 6ms/step - loss: 0.4344 - accuracy: 0.8105 - val_loss: 0.3315 - val_accuracy: 0.8289\n",
      "Epoch 109/400\n",
      "158/158 [==============================] - 1s 5ms/step - loss: 0.4265 - accuracy: 0.8111 - val_loss: 0.3179 - val_accuracy: 0.8456\n",
      "Epoch 110/400\n",
      "158/158 [==============================] - 1s 5ms/step - loss: 0.4307 - accuracy: 0.8163 - val_loss: 0.3351 - val_accuracy: 0.8356\n",
      "Epoch 111/400\n",
      "158/158 [==============================] - 1s 5ms/step - loss: 0.4278 - accuracy: 0.8125 - val_loss: 0.3384 - val_accuracy: 0.8389\n",
      "Epoch 112/400\n",
      "158/158 [==============================] - 1s 5ms/step - loss: 0.4228 - accuracy: 0.8230 - val_loss: 0.3344 - val_accuracy: 0.8255\n",
      "Epoch 113/400\n",
      "158/158 [==============================] - 1s 6ms/step - loss: 0.4453 - accuracy: 0.8018 - val_loss: 0.3340 - val_accuracy: 0.8221\n",
      "Epoch 114/400\n",
      "158/158 [==============================] - 1s 6ms/step - loss: 0.4374 - accuracy: 0.8056 - val_loss: 0.3318 - val_accuracy: 0.8221\n"
     ]
    },
    {
     "name": "stdout",
     "output_type": "stream",
     "text": [
      "Epoch 115/400\n",
      "158/158 [==============================] - 1s 8ms/step - loss: 0.4300 - accuracy: 0.8093 - val_loss: 0.3359 - val_accuracy: 0.8188\n",
      "Epoch 116/400\n",
      "158/158 [==============================] - 1s 6ms/step - loss: 0.4325 - accuracy: 0.8139 - val_loss: 0.3286 - val_accuracy: 0.8322\n",
      "Epoch 117/400\n",
      "158/158 [==============================] - 1s 7ms/step - loss: 0.4269 - accuracy: 0.8228 - val_loss: 0.3183 - val_accuracy: 0.8423\n",
      "Epoch 118/400\n",
      "158/158 [==============================] - 1s 6ms/step - loss: 0.4313 - accuracy: 0.8153 - val_loss: 0.3035 - val_accuracy: 0.8456\n",
      "Epoch 119/400\n",
      "158/158 [==============================] - 1s 5ms/step - loss: 0.4410 - accuracy: 0.8062 - val_loss: 0.3237 - val_accuracy: 0.8322\n",
      "Epoch 120/400\n",
      "158/158 [==============================] - 1s 5ms/step - loss: 0.4275 - accuracy: 0.8125 - val_loss: 0.3036 - val_accuracy: 0.8423\n",
      "Epoch 121/400\n",
      "158/158 [==============================] - 1s 5ms/step - loss: 0.4338 - accuracy: 0.8188 - val_loss: 0.3170 - val_accuracy: 0.8389\n",
      "Epoch 122/400\n",
      "158/158 [==============================] - 1s 5ms/step - loss: 0.4265 - accuracy: 0.8131 - val_loss: 0.3402 - val_accuracy: 0.8154\n",
      "Epoch 123/400\n",
      "158/158 [==============================] - 1s 5ms/step - loss: 0.4252 - accuracy: 0.8151 - val_loss: 0.3305 - val_accuracy: 0.8356\n",
      "Epoch 124/400\n",
      "158/158 [==============================] - 1s 5ms/step - loss: 0.4357 - accuracy: 0.8093 - val_loss: 0.3286 - val_accuracy: 0.8289\n",
      "Epoch 125/400\n",
      "158/158 [==============================] - 1s 5ms/step - loss: 0.4265 - accuracy: 0.8170 - val_loss: 0.3224 - val_accuracy: 0.8221\n",
      "Epoch 126/400\n",
      "158/158 [==============================] - 1s 5ms/step - loss: 0.4355 - accuracy: 0.8125 - val_loss: 0.3153 - val_accuracy: 0.8255\n",
      "Epoch 127/400\n",
      "158/158 [==============================] - 1s 5ms/step - loss: 0.4329 - accuracy: 0.8125 - val_loss: 0.3252 - val_accuracy: 0.8255\n",
      "Epoch 128/400\n",
      "158/158 [==============================] - 1s 5ms/step - loss: 0.4355 - accuracy: 0.8131 - val_loss: 0.3163 - val_accuracy: 0.8322\n",
      "Epoch 129/400\n",
      "158/158 [==============================] - 1s 5ms/step - loss: 0.4242 - accuracy: 0.8212 - val_loss: 0.3239 - val_accuracy: 0.8221\n",
      "Epoch 130/400\n",
      "158/158 [==============================] - 1s 5ms/step - loss: 0.4346 - accuracy: 0.8157 - val_loss: 0.3211 - val_accuracy: 0.8289\n",
      "Epoch 131/400\n",
      "158/158 [==============================] - 1s 5ms/step - loss: 0.4285 - accuracy: 0.8097 - val_loss: 0.3156 - val_accuracy: 0.8221\n",
      "Epoch 132/400\n",
      "158/158 [==============================] - 1s 5ms/step - loss: 0.4419 - accuracy: 0.8119 - val_loss: 0.3167 - val_accuracy: 0.8188\n",
      "Epoch 133/400\n",
      "158/158 [==============================] - 1s 5ms/step - loss: 0.4258 - accuracy: 0.8165 - val_loss: 0.3159 - val_accuracy: 0.8356\n",
      "Epoch 134/400\n",
      "158/158 [==============================] - 1s 5ms/step - loss: 0.4242 - accuracy: 0.8119 - val_loss: 0.3243 - val_accuracy: 0.8389\n",
      "Epoch 135/400\n",
      "158/158 [==============================] - 1s 5ms/step - loss: 0.4254 - accuracy: 0.8157 - val_loss: 0.3018 - val_accuracy: 0.8591\n",
      "Epoch 136/400\n",
      "158/158 [==============================] - 1s 5ms/step - loss: 0.4257 - accuracy: 0.8188 - val_loss: 0.3069 - val_accuracy: 0.8490\n",
      "Epoch 137/400\n",
      "158/158 [==============================] - 1s 5ms/step - loss: 0.4163 - accuracy: 0.8240 - val_loss: 0.2995 - val_accuracy: 0.8456\n",
      "Epoch 138/400\n",
      "158/158 [==============================] - 1s 5ms/step - loss: 0.4187 - accuracy: 0.8188 - val_loss: 0.3172 - val_accuracy: 0.8356\n",
      "Epoch 139/400\n",
      "158/158 [==============================] - 1s 6ms/step - loss: 0.4237 - accuracy: 0.8196 - val_loss: 0.3193 - val_accuracy: 0.8456\n",
      "Epoch 140/400\n",
      "158/158 [==============================] - 1s 9ms/step - loss: 0.4238 - accuracy: 0.8143 - val_loss: 0.3116 - val_accuracy: 0.8490\n",
      "Epoch 141/400\n",
      "158/158 [==============================] - 1s 7ms/step - loss: 0.4243 - accuracy: 0.8167 - val_loss: 0.3221 - val_accuracy: 0.8322\n",
      "Epoch 142/400\n",
      "158/158 [==============================] - 1s 6ms/step - loss: 0.4320 - accuracy: 0.8151 - val_loss: 0.3155 - val_accuracy: 0.8490\n",
      "Epoch 143/400\n",
      "158/158 [==============================] - 1s 6ms/step - loss: 0.4273 - accuracy: 0.8170 - val_loss: 0.3006 - val_accuracy: 0.8591\n",
      "Epoch 144/400\n",
      "158/158 [==============================] - 1s 6ms/step - loss: 0.4230 - accuracy: 0.8196 - val_loss: 0.3222 - val_accuracy: 0.8322\n",
      "Epoch 145/400\n",
      "158/158 [==============================] - 1s 7ms/step - loss: 0.4406 - accuracy: 0.8095 - val_loss: 0.3030 - val_accuracy: 0.8658\n",
      "Epoch 146/400\n",
      "158/158 [==============================] - 1s 7ms/step - loss: 0.4291 - accuracy: 0.8194 - val_loss: 0.3128 - val_accuracy: 0.8490\n",
      "Epoch 147/400\n",
      "158/158 [==============================] - 1s 5ms/step - loss: 0.4250 - accuracy: 0.8135 - val_loss: 0.2961 - val_accuracy: 0.8557\n",
      "Epoch 148/400\n",
      "158/158 [==============================] - 1s 5ms/step - loss: 0.4293 - accuracy: 0.8125 - val_loss: 0.3110 - val_accuracy: 0.8389\n",
      "Epoch 149/400\n",
      "158/158 [==============================] - 1s 7ms/step - loss: 0.4300 - accuracy: 0.8208 - val_loss: 0.3347 - val_accuracy: 0.8188\n",
      "Epoch 150/400\n",
      "158/158 [==============================] - 1s 6ms/step - loss: 0.4237 - accuracy: 0.8163 - val_loss: 0.3135 - val_accuracy: 0.8456\n",
      "Epoch 151/400\n",
      "158/158 [==============================] - 1s 6ms/step - loss: 0.4268 - accuracy: 0.8137 - val_loss: 0.2891 - val_accuracy: 0.8624\n",
      "Epoch 152/400\n",
      "158/158 [==============================] - 1s 5ms/step - loss: 0.4284 - accuracy: 0.8133 - val_loss: 0.3061 - val_accuracy: 0.8456\n",
      "Epoch 153/400\n",
      "158/158 [==============================] - 1s 6ms/step - loss: 0.4347 - accuracy: 0.8119 - val_loss: 0.3067 - val_accuracy: 0.8456\n",
      "Epoch 154/400\n",
      "158/158 [==============================] - 1s 7ms/step - loss: 0.4312 - accuracy: 0.8135 - val_loss: 0.3283 - val_accuracy: 0.8289\n",
      "Epoch 155/400\n",
      "158/158 [==============================] - 1s 5ms/step - loss: 0.4327 - accuracy: 0.8178 - val_loss: 0.3161 - val_accuracy: 0.8356\n",
      "Epoch 156/400\n",
      "158/158 [==============================] - 1s 5ms/step - loss: 0.4208 - accuracy: 0.8236 - val_loss: 0.3174 - val_accuracy: 0.8423\n",
      "Epoch 157/400\n",
      "158/158 [==============================] - 1s 6ms/step - loss: 0.4180 - accuracy: 0.8186 - val_loss: 0.3074 - val_accuracy: 0.8322\n",
      "Epoch 158/400\n",
      "158/158 [==============================] - 1s 6ms/step - loss: 0.4288 - accuracy: 0.8149 - val_loss: 0.3139 - val_accuracy: 0.8389\n",
      "Epoch 159/400\n",
      "158/158 [==============================] - 1s 6ms/step - loss: 0.4267 - accuracy: 0.8163 - val_loss: 0.3124 - val_accuracy: 0.8423\n",
      "Epoch 160/400\n",
      "158/158 [==============================] - 2s 10ms/step - loss: 0.4321 - accuracy: 0.8133 - val_loss: 0.3121 - val_accuracy: 0.8389\n",
      "Epoch 161/400\n",
      "158/158 [==============================] - 1s 8ms/step - loss: 0.4239 - accuracy: 0.8151 - val_loss: 0.3192 - val_accuracy: 0.8322\n",
      "Epoch 162/400\n",
      "158/158 [==============================] - 1s 6ms/step - loss: 0.4256 - accuracy: 0.8220 - val_loss: 0.3123 - val_accuracy: 0.8456\n",
      "Epoch 163/400\n",
      "158/158 [==============================] - 1s 5ms/step - loss: 0.4356 - accuracy: 0.8064 - val_loss: 0.3132 - val_accuracy: 0.8389\n",
      "Epoch 164/400\n",
      "158/158 [==============================] - 1s 5ms/step - loss: 0.4297 - accuracy: 0.8153 - val_loss: 0.3204 - val_accuracy: 0.8255\n",
      "Epoch 165/400\n",
      "158/158 [==============================] - 1s 5ms/step - loss: 0.4212 - accuracy: 0.8159 - val_loss: 0.3217 - val_accuracy: 0.8289\n",
      "Epoch 166/400\n",
      "158/158 [==============================] - 1s 6ms/step - loss: 0.4286 - accuracy: 0.8218 - val_loss: 0.3116 - val_accuracy: 0.8490\n",
      "Epoch 167/400\n",
      "158/158 [==============================] - 1s 6ms/step - loss: 0.4205 - accuracy: 0.8218 - val_loss: 0.3213 - val_accuracy: 0.8389\n",
      "Epoch 168/400\n",
      "158/158 [==============================] - 1s 7ms/step - loss: 0.4274 - accuracy: 0.8101 - val_loss: 0.3011 - val_accuracy: 0.8591\n",
      "Epoch 169/400\n",
      "158/158 [==============================] - 1s 5ms/step - loss: 0.4204 - accuracy: 0.8224 - val_loss: 0.3058 - val_accuracy: 0.8624\n",
      "Epoch 170/400\n",
      "158/158 [==============================] - 1s 6ms/step - loss: 0.4247 - accuracy: 0.8202 - val_loss: 0.3145 - val_accuracy: 0.8456\n",
      "Epoch 171/400\n",
      "158/158 [==============================] - 1s 5ms/step - loss: 0.4302 - accuracy: 0.8117 - val_loss: 0.3132 - val_accuracy: 0.8490\n",
      "Epoch 172/400\n",
      "158/158 [==============================] - 1s 6ms/step - loss: 0.4263 - accuracy: 0.8204 - val_loss: 0.3187 - val_accuracy: 0.8523\n",
      "Epoch 173/400\n",
      "158/158 [==============================] - 1s 7ms/step - loss: 0.4350 - accuracy: 0.8214 - val_loss: 0.3092 - val_accuracy: 0.8523\n",
      "Epoch 174/400\n",
      "158/158 [==============================] - 1s 8ms/step - loss: 0.4142 - accuracy: 0.8295 - val_loss: 0.3182 - val_accuracy: 0.8322\n",
      "Epoch 175/400\n",
      "158/158 [==============================] - 1s 6ms/step - loss: 0.4255 - accuracy: 0.8192 - val_loss: 0.3383 - val_accuracy: 0.8289\n",
      "Epoch 176/400\n",
      "158/158 [==============================] - 1s 6ms/step - loss: 0.4405 - accuracy: 0.8109 - val_loss: 0.3246 - val_accuracy: 0.8356\n",
      "Epoch 177/400\n",
      "158/158 [==============================] - 1s 9ms/step - loss: 0.4271 - accuracy: 0.8161 - val_loss: 0.2946 - val_accuracy: 0.8523\n",
      "Epoch 178/400\n",
      "158/158 [==============================] - 1s 6ms/step - loss: 0.4272 - accuracy: 0.8218 - val_loss: 0.3141 - val_accuracy: 0.8456\n",
      "Epoch 179/400\n",
      "158/158 [==============================] - 1s 6ms/step - loss: 0.4145 - accuracy: 0.8196 - val_loss: 0.2983 - val_accuracy: 0.8658\n",
      "Epoch 180/400\n",
      "158/158 [==============================] - 1s 6ms/step - loss: 0.4257 - accuracy: 0.8127 - val_loss: 0.3229 - val_accuracy: 0.8255\n",
      "Epoch 181/400\n",
      "158/158 [==============================] - 1s 5ms/step - loss: 0.4232 - accuracy: 0.8167 - val_loss: 0.3049 - val_accuracy: 0.8456\n",
      "Epoch 182/400\n",
      "158/158 [==============================] - 1s 6ms/step - loss: 0.4325 - accuracy: 0.8141 - val_loss: 0.3054 - val_accuracy: 0.8456\n",
      "Epoch 183/400\n",
      "158/158 [==============================] - 1s 6ms/step - loss: 0.4223 - accuracy: 0.8147 - val_loss: 0.2944 - val_accuracy: 0.8456\n",
      "Epoch 184/400\n",
      "158/158 [==============================] - 1s 7ms/step - loss: 0.4179 - accuracy: 0.8220 - val_loss: 0.3067 - val_accuracy: 0.8423\n",
      "Epoch 185/400\n",
      "158/158 [==============================] - 1s 7ms/step - loss: 0.4393 - accuracy: 0.8117 - val_loss: 0.3040 - val_accuracy: 0.8490\n",
      "Epoch 186/400\n",
      "158/158 [==============================] - 1s 6ms/step - loss: 0.4252 - accuracy: 0.8194 - val_loss: 0.2986 - val_accuracy: 0.8591\n",
      "Epoch 187/400\n",
      "158/158 [==============================] - 1s 5ms/step - loss: 0.4223 - accuracy: 0.8176 - val_loss: 0.3180 - val_accuracy: 0.8289\n",
      "Epoch 188/400\n",
      "158/158 [==============================] - 1s 5ms/step - loss: 0.4227 - accuracy: 0.8204 - val_loss: 0.3004 - val_accuracy: 0.8557\n",
      "Epoch 189/400\n",
      "158/158 [==============================] - 1s 5ms/step - loss: 0.4277 - accuracy: 0.8133 - val_loss: 0.2947 - val_accuracy: 0.8456\n",
      "Epoch 190/400\n",
      "158/158 [==============================] - 1s 5ms/step - loss: 0.4240 - accuracy: 0.8212 - val_loss: 0.2983 - val_accuracy: 0.8523\n",
      "Epoch 191/400\n",
      "158/158 [==============================] - 1s 5ms/step - loss: 0.4347 - accuracy: 0.8097 - val_loss: 0.3035 - val_accuracy: 0.8490\n",
      "Epoch 192/400\n",
      "158/158 [==============================] - 1s 5ms/step - loss: 0.4220 - accuracy: 0.8196 - val_loss: 0.2918 - val_accuracy: 0.8758\n",
      "Epoch 193/400\n",
      "158/158 [==============================] - 1s 5ms/step - loss: 0.4242 - accuracy: 0.8192 - val_loss: 0.2959 - val_accuracy: 0.8658\n",
      "Epoch 194/400\n",
      "158/158 [==============================] - 1s 5ms/step - loss: 0.4219 - accuracy: 0.8198 - val_loss: 0.2968 - val_accuracy: 0.8691\n",
      "Epoch 195/400\n",
      "158/158 [==============================] - 1s 5ms/step - loss: 0.4289 - accuracy: 0.8153 - val_loss: 0.3032 - val_accuracy: 0.8624\n",
      "Epoch 196/400\n",
      "158/158 [==============================] - 1s 6ms/step - loss: 0.4232 - accuracy: 0.8188 - val_loss: 0.3022 - val_accuracy: 0.8523\n",
      "Epoch 197/400\n",
      "158/158 [==============================] - 1s 6ms/step - loss: 0.4303 - accuracy: 0.8133 - val_loss: 0.3050 - val_accuracy: 0.8456\n",
      "Epoch 198/400\n",
      "158/158 [==============================] - 1s 6ms/step - loss: 0.4173 - accuracy: 0.8192 - val_loss: 0.2890 - val_accuracy: 0.8557\n",
      "Epoch 199/400\n",
      "158/158 [==============================] - 1s 6ms/step - loss: 0.4263 - accuracy: 0.8246 - val_loss: 0.3026 - val_accuracy: 0.8557\n",
      "Epoch 200/400\n",
      "158/158 [==============================] - 1s 5ms/step - loss: 0.4283 - accuracy: 0.8153 - val_loss: 0.2930 - val_accuracy: 0.8591\n",
      "Epoch 201/400\n",
      "158/158 [==============================] - 1s 6ms/step - loss: 0.4283 - accuracy: 0.8135 - val_loss: 0.3022 - val_accuracy: 0.8591\n",
      "Epoch 202/400\n",
      "158/158 [==============================] - 1s 5ms/step - loss: 0.4251 - accuracy: 0.8178 - val_loss: 0.3093 - val_accuracy: 0.8389\n",
      "Epoch 203/400\n",
      "158/158 [==============================] - 1s 6ms/step - loss: 0.4220 - accuracy: 0.8184 - val_loss: 0.3058 - val_accuracy: 0.8389\n",
      "Epoch 204/400\n",
      "158/158 [==============================] - 1s 5ms/step - loss: 0.4180 - accuracy: 0.8206 - val_loss: 0.3047 - val_accuracy: 0.8456\n",
      "Epoch 205/400\n",
      "158/158 [==============================] - 1s 8ms/step - loss: 0.4195 - accuracy: 0.8194 - val_loss: 0.2844 - val_accuracy: 0.8691\n",
      "Epoch 206/400\n",
      "158/158 [==============================] - 1s 8ms/step - loss: 0.4286 - accuracy: 0.8139 - val_loss: 0.3179 - val_accuracy: 0.8255\n",
      "Epoch 207/400\n",
      "158/158 [==============================] - 1s 7ms/step - loss: 0.4267 - accuracy: 0.8198 - val_loss: 0.3033 - val_accuracy: 0.8591\n",
      "Epoch 208/400\n",
      "158/158 [==============================] - 1s 5ms/step - loss: 0.4200 - accuracy: 0.8204 - val_loss: 0.2933 - val_accuracy: 0.8557\n",
      "Epoch 209/400\n",
      "158/158 [==============================] - 1s 6ms/step - loss: 0.4179 - accuracy: 0.8236 - val_loss: 0.2942 - val_accuracy: 0.8557\n",
      "Epoch 210/400\n",
      "158/158 [==============================] - 1s 6ms/step - loss: 0.4133 - accuracy: 0.8271 - val_loss: 0.2784 - val_accuracy: 0.8792\n",
      "Epoch 211/400\n",
      "158/158 [==============================] - 1s 5ms/step - loss: 0.4306 - accuracy: 0.8192 - val_loss: 0.3051 - val_accuracy: 0.8490\n",
      "Epoch 212/400\n",
      "158/158 [==============================] - 1s 5ms/step - loss: 0.4183 - accuracy: 0.8198 - val_loss: 0.3062 - val_accuracy: 0.8490\n",
      "Epoch 213/400\n",
      "158/158 [==============================] - 1s 5ms/step - loss: 0.4167 - accuracy: 0.8200 - val_loss: 0.3009 - val_accuracy: 0.8523\n",
      "Epoch 214/400\n",
      "158/158 [==============================] - 1s 5ms/step - loss: 0.4311 - accuracy: 0.8093 - val_loss: 0.3043 - val_accuracy: 0.8490\n",
      "Epoch 215/400\n",
      "158/158 [==============================] - 1s 5ms/step - loss: 0.4125 - accuracy: 0.8192 - val_loss: 0.3001 - val_accuracy: 0.8557\n",
      "Epoch 216/400\n",
      "158/158 [==============================] - 1s 7ms/step - loss: 0.4187 - accuracy: 0.8194 - val_loss: 0.3031 - val_accuracy: 0.8725\n",
      "Epoch 217/400\n",
      "158/158 [==============================] - 1s 9ms/step - loss: 0.4312 - accuracy: 0.8145 - val_loss: 0.2987 - val_accuracy: 0.8725\n",
      "Epoch 218/400\n",
      "158/158 [==============================] - 1s 8ms/step - loss: 0.4317 - accuracy: 0.8176 - val_loss: 0.3077 - val_accuracy: 0.8322\n",
      "Epoch 219/400\n",
      "158/158 [==============================] - 1s 9ms/step - loss: 0.4299 - accuracy: 0.8052 - val_loss: 0.3172 - val_accuracy: 0.8423\n",
      "Epoch 220/400\n",
      "158/158 [==============================] - 1s 8ms/step - loss: 0.4213 - accuracy: 0.8188 - val_loss: 0.2944 - val_accuracy: 0.8691\n",
      "Epoch 221/400\n",
      "158/158 [==============================] - 1s 5ms/step - loss: 0.4254 - accuracy: 0.8178 - val_loss: 0.3022 - val_accuracy: 0.8557\n",
      "Epoch 222/400\n",
      "158/158 [==============================] - 1s 6ms/step - loss: 0.4158 - accuracy: 0.8228 - val_loss: 0.3004 - val_accuracy: 0.8423\n",
      "Epoch 223/400\n",
      "158/158 [==============================] - 1s 5ms/step - loss: 0.4272 - accuracy: 0.8234 - val_loss: 0.3092 - val_accuracy: 0.8289\n",
      "Epoch 224/400\n",
      "158/158 [==============================] - 1s 5ms/step - loss: 0.4174 - accuracy: 0.8301 - val_loss: 0.3022 - val_accuracy: 0.8523\n",
      "Epoch 225/400\n",
      "158/158 [==============================] - 1s 5ms/step - loss: 0.4354 - accuracy: 0.8052 - val_loss: 0.3085 - val_accuracy: 0.8591\n",
      "Epoch 226/400\n",
      "158/158 [==============================] - 1s 6ms/step - loss: 0.4219 - accuracy: 0.8192 - val_loss: 0.3012 - val_accuracy: 0.8591\n",
      "Epoch 227/400\n"
     ]
    },
    {
     "name": "stdout",
     "output_type": "stream",
     "text": [
      "158/158 [==============================] - 1s 7ms/step - loss: 0.4252 - accuracy: 0.8163 - val_loss: 0.2983 - val_accuracy: 0.8591\n",
      "Epoch 228/400\n",
      "158/158 [==============================] - 1s 8ms/step - loss: 0.4275 - accuracy: 0.8190 - val_loss: 0.3124 - val_accuracy: 0.8356\n",
      "Epoch 229/400\n",
      "158/158 [==============================] - 1s 6ms/step - loss: 0.4331 - accuracy: 0.8172 - val_loss: 0.3126 - val_accuracy: 0.8389\n",
      "Epoch 230/400\n",
      "158/158 [==============================] - 1s 6ms/step - loss: 0.4218 - accuracy: 0.8200 - val_loss: 0.3165 - val_accuracy: 0.8456\n",
      "Epoch 231/400\n",
      "158/158 [==============================] - 1s 5ms/step - loss: 0.4268 - accuracy: 0.8123 - val_loss: 0.3093 - val_accuracy: 0.8523\n",
      "Epoch 232/400\n",
      "158/158 [==============================] - 1s 5ms/step - loss: 0.4251 - accuracy: 0.8198 - val_loss: 0.3055 - val_accuracy: 0.8423\n",
      "Epoch 233/400\n",
      "158/158 [==============================] - 1s 5ms/step - loss: 0.4256 - accuracy: 0.8172 - val_loss: 0.3181 - val_accuracy: 0.8322\n",
      "Epoch 234/400\n",
      "158/158 [==============================] - 1s 7ms/step - loss: 0.4128 - accuracy: 0.8248 - val_loss: 0.3131 - val_accuracy: 0.8423\n",
      "Epoch 235/400\n",
      "158/158 [==============================] - 1s 8ms/step - loss: 0.4286 - accuracy: 0.8159 - val_loss: 0.3082 - val_accuracy: 0.8490\n",
      "Epoch 236/400\n",
      "158/158 [==============================] - 1s 6ms/step - loss: 0.4210 - accuracy: 0.8224 - val_loss: 0.3170 - val_accuracy: 0.8490\n",
      "Epoch 237/400\n",
      "158/158 [==============================] - 1s 6ms/step - loss: 0.4259 - accuracy: 0.8182 - val_loss: 0.3218 - val_accuracy: 0.8322\n",
      "Epoch 238/400\n",
      "158/158 [==============================] - 1s 5ms/step - loss: 0.4161 - accuracy: 0.8261 - val_loss: 0.3018 - val_accuracy: 0.8591\n",
      "Epoch 239/400\n",
      "158/158 [==============================] - 1s 5ms/step - loss: 0.4162 - accuracy: 0.8198 - val_loss: 0.2976 - val_accuracy: 0.8523\n",
      "Epoch 240/400\n",
      "158/158 [==============================] - 1s 6ms/step - loss: 0.4201 - accuracy: 0.8188 - val_loss: 0.3080 - val_accuracy: 0.8591\n",
      "Epoch 241/400\n",
      "158/158 [==============================] - 1s 5ms/step - loss: 0.4255 - accuracy: 0.8234 - val_loss: 0.3110 - val_accuracy: 0.8423\n",
      "Epoch 242/400\n",
      "158/158 [==============================] - 1s 7ms/step - loss: 0.4223 - accuracy: 0.8234 - val_loss: 0.3068 - val_accuracy: 0.8490\n",
      "Epoch 243/400\n",
      "158/158 [==============================] - 1s 7ms/step - loss: 0.4130 - accuracy: 0.8222 - val_loss: 0.3061 - val_accuracy: 0.8523\n",
      "Epoch 244/400\n",
      "158/158 [==============================] - 1s 6ms/step - loss: 0.4217 - accuracy: 0.8125 - val_loss: 0.3041 - val_accuracy: 0.8523\n",
      "Epoch 245/400\n",
      "158/158 [==============================] - 1s 5ms/step - loss: 0.4168 - accuracy: 0.8192 - val_loss: 0.3073 - val_accuracy: 0.8356\n",
      "Epoch 246/400\n",
      "158/158 [==============================] - 1s 7ms/step - loss: 0.4229 - accuracy: 0.8200 - val_loss: 0.3111 - val_accuracy: 0.8356\n",
      "Epoch 247/400\n",
      "158/158 [==============================] - 1s 5ms/step - loss: 0.4161 - accuracy: 0.8214 - val_loss: 0.3052 - val_accuracy: 0.8490\n",
      "Epoch 248/400\n",
      "158/158 [==============================] - 1s 7ms/step - loss: 0.4189 - accuracy: 0.8172 - val_loss: 0.3106 - val_accuracy: 0.8389\n",
      "Epoch 249/400\n",
      "158/158 [==============================] - 1s 7ms/step - loss: 0.4281 - accuracy: 0.8176 - val_loss: 0.3062 - val_accuracy: 0.8389\n",
      "Epoch 250/400\n",
      "158/158 [==============================] - 1s 6ms/step - loss: 0.4323 - accuracy: 0.8178 - val_loss: 0.3123 - val_accuracy: 0.8389\n",
      "Epoch 251/400\n",
      "158/158 [==============================] - 1s 7ms/step - loss: 0.4110 - accuracy: 0.8246 - val_loss: 0.3082 - val_accuracy: 0.8523\n",
      "Epoch 252/400\n",
      "158/158 [==============================] - 1s 6ms/step - loss: 0.4155 - accuracy: 0.8291 - val_loss: 0.3182 - val_accuracy: 0.8490\n",
      "Epoch 253/400\n",
      "158/158 [==============================] - 1s 6ms/step - loss: 0.4236 - accuracy: 0.8196 - val_loss: 0.3314 - val_accuracy: 0.8289\n",
      "Epoch 254/400\n",
      "158/158 [==============================] - 1s 5ms/step - loss: 0.4199 - accuracy: 0.8238 - val_loss: 0.3267 - val_accuracy: 0.8456\n",
      "Epoch 255/400\n",
      "158/158 [==============================] - 1s 5ms/step - loss: 0.4187 - accuracy: 0.8252 - val_loss: 0.3124 - val_accuracy: 0.8557\n",
      "Epoch 256/400\n",
      "158/158 [==============================] - 1s 6ms/step - loss: 0.4074 - accuracy: 0.8226 - val_loss: 0.3063 - val_accuracy: 0.8490\n",
      "Epoch 257/400\n",
      "158/158 [==============================] - 1s 5ms/step - loss: 0.4262 - accuracy: 0.8129 - val_loss: 0.3012 - val_accuracy: 0.8557\n",
      "Epoch 258/400\n",
      "158/158 [==============================] - 1s 5ms/step - loss: 0.4262 - accuracy: 0.8234 - val_loss: 0.2998 - val_accuracy: 0.8691\n",
      "Epoch 259/400\n",
      "158/158 [==============================] - 1s 5ms/step - loss: 0.4154 - accuracy: 0.8222 - val_loss: 0.2959 - val_accuracy: 0.8557\n",
      "Epoch 260/400\n",
      "158/158 [==============================] - 1s 5ms/step - loss: 0.4114 - accuracy: 0.8252 - val_loss: 0.3072 - val_accuracy: 0.8423\n",
      "Epoch 261/400\n",
      "158/158 [==============================] - 1s 5ms/step - loss: 0.4254 - accuracy: 0.8107 - val_loss: 0.3115 - val_accuracy: 0.8456\n",
      "Epoch 262/400\n",
      "158/158 [==============================] - 1s 5ms/step - loss: 0.4308 - accuracy: 0.8141 - val_loss: 0.3196 - val_accuracy: 0.8389\n",
      "Epoch 263/400\n",
      "158/158 [==============================] - 1s 5ms/step - loss: 0.4286 - accuracy: 0.8167 - val_loss: 0.3042 - val_accuracy: 0.8557\n",
      "Epoch 264/400\n",
      "158/158 [==============================] - 1s 5ms/step - loss: 0.4096 - accuracy: 0.8218 - val_loss: 0.2899 - val_accuracy: 0.8792\n",
      "Epoch 265/400\n",
      "158/158 [==============================] - 1s 5ms/step - loss: 0.4172 - accuracy: 0.8188 - val_loss: 0.3265 - val_accuracy: 0.8322\n",
      "Epoch 266/400\n",
      "158/158 [==============================] - 1s 5ms/step - loss: 0.4165 - accuracy: 0.8165 - val_loss: 0.2942 - val_accuracy: 0.8624\n",
      "Epoch 267/400\n",
      "158/158 [==============================] - 1s 5ms/step - loss: 0.4108 - accuracy: 0.8246 - val_loss: 0.3104 - val_accuracy: 0.8490\n",
      "Epoch 268/400\n",
      "158/158 [==============================] - 1s 5ms/step - loss: 0.4285 - accuracy: 0.8151 - val_loss: 0.3117 - val_accuracy: 0.8557\n",
      "Epoch 269/400\n",
      "158/158 [==============================] - 1s 5ms/step - loss: 0.4256 - accuracy: 0.8141 - val_loss: 0.3002 - val_accuracy: 0.8557\n",
      "Epoch 270/400\n",
      "158/158 [==============================] - 1s 5ms/step - loss: 0.4166 - accuracy: 0.8271 - val_loss: 0.3014 - val_accuracy: 0.8523\n",
      "Epoch 271/400\n",
      "158/158 [==============================] - 1s 5ms/step - loss: 0.4229 - accuracy: 0.8161 - val_loss: 0.2906 - val_accuracy: 0.8691\n",
      "Epoch 272/400\n",
      "158/158 [==============================] - 1s 5ms/step - loss: 0.4349 - accuracy: 0.8109 - val_loss: 0.2961 - val_accuracy: 0.8624\n",
      "Epoch 273/400\n",
      "158/158 [==============================] - 1s 6ms/step - loss: 0.4134 - accuracy: 0.8258 - val_loss: 0.3099 - val_accuracy: 0.8490\n",
      "Epoch 274/400\n",
      "158/158 [==============================] - 1s 5ms/step - loss: 0.4291 - accuracy: 0.8180 - val_loss: 0.3002 - val_accuracy: 0.8490\n",
      "Epoch 275/400\n",
      "158/158 [==============================] - 1s 5ms/step - loss: 0.4149 - accuracy: 0.8285 - val_loss: 0.2915 - val_accuracy: 0.8557\n",
      "Epoch 276/400\n",
      "158/158 [==============================] - 1s 5ms/step - loss: 0.4206 - accuracy: 0.8218 - val_loss: 0.3062 - val_accuracy: 0.8523\n",
      "Epoch 277/400\n",
      "158/158 [==============================] - 1s 5ms/step - loss: 0.4143 - accuracy: 0.8269 - val_loss: 0.2990 - val_accuracy: 0.8490\n",
      "Epoch 278/400\n",
      "158/158 [==============================] - 1s 7ms/step - loss: 0.4201 - accuracy: 0.8178 - val_loss: 0.3015 - val_accuracy: 0.8591\n",
      "Epoch 279/400\n",
      "158/158 [==============================] - 1s 6ms/step - loss: 0.4120 - accuracy: 0.8222 - val_loss: 0.2970 - val_accuracy: 0.8658\n",
      "Epoch 280/400\n",
      "158/158 [==============================] - 1s 6ms/step - loss: 0.4015 - accuracy: 0.8283 - val_loss: 0.2984 - val_accuracy: 0.8624\n",
      "Epoch 281/400\n",
      "158/158 [==============================] - 1s 5ms/step - loss: 0.4144 - accuracy: 0.8242 - val_loss: 0.3079 - val_accuracy: 0.8557\n",
      "Epoch 282/400\n",
      "158/158 [==============================] - 1s 5ms/step - loss: 0.4064 - accuracy: 0.8277 - val_loss: 0.3073 - val_accuracy: 0.8557\n",
      "Epoch 283/400\n",
      "158/158 [==============================] - 1s 5ms/step - loss: 0.4215 - accuracy: 0.8228 - val_loss: 0.3004 - val_accuracy: 0.8591\n",
      "Epoch 284/400\n",
      "158/158 [==============================] - 1s 5ms/step - loss: 0.4143 - accuracy: 0.8246 - val_loss: 0.3125 - val_accuracy: 0.8423\n",
      "Epoch 285/400\n",
      "158/158 [==============================] - 1s 5ms/step - loss: 0.4221 - accuracy: 0.8212 - val_loss: 0.3096 - val_accuracy: 0.8423\n",
      "Epoch 286/400\n",
      "158/158 [==============================] - 1s 5ms/step - loss: 0.4130 - accuracy: 0.8248 - val_loss: 0.2981 - val_accuracy: 0.8624\n",
      "Epoch 287/400\n",
      "158/158 [==============================] - 1s 5ms/step - loss: 0.4091 - accuracy: 0.8204 - val_loss: 0.2976 - val_accuracy: 0.8523\n",
      "Epoch 288/400\n",
      "158/158 [==============================] - 1s 5ms/step - loss: 0.4135 - accuracy: 0.8246 - val_loss: 0.3008 - val_accuracy: 0.8557\n",
      "Epoch 289/400\n",
      "158/158 [==============================] - 1s 5ms/step - loss: 0.4203 - accuracy: 0.8180 - val_loss: 0.3123 - val_accuracy: 0.8456\n",
      "Epoch 290/400\n",
      "158/158 [==============================] - 1s 5ms/step - loss: 0.4200 - accuracy: 0.8139 - val_loss: 0.3186 - val_accuracy: 0.8289\n",
      "Epoch 291/400\n",
      "158/158 [==============================] - 1s 5ms/step - loss: 0.4186 - accuracy: 0.8246 - val_loss: 0.3016 - val_accuracy: 0.8557\n",
      "Epoch 292/400\n",
      "158/158 [==============================] - 1s 5ms/step - loss: 0.4138 - accuracy: 0.8254 - val_loss: 0.3071 - val_accuracy: 0.8423\n",
      "Epoch 293/400\n",
      "158/158 [==============================] - 1s 5ms/step - loss: 0.4188 - accuracy: 0.8198 - val_loss: 0.2997 - val_accuracy: 0.8624\n",
      "Epoch 294/400\n",
      "158/158 [==============================] - 1s 5ms/step - loss: 0.4206 - accuracy: 0.8170 - val_loss: 0.3021 - val_accuracy: 0.8557\n",
      "Epoch 295/400\n",
      "158/158 [==============================] - 1s 5ms/step - loss: 0.4303 - accuracy: 0.8184 - val_loss: 0.3090 - val_accuracy: 0.8523\n",
      "Epoch 296/400\n",
      "158/158 [==============================] - 1s 5ms/step - loss: 0.4263 - accuracy: 0.8155 - val_loss: 0.2926 - val_accuracy: 0.8658\n",
      "Epoch 297/400\n",
      "158/158 [==============================] - 1s 5ms/step - loss: 0.4147 - accuracy: 0.8230 - val_loss: 0.2975 - val_accuracy: 0.8557\n",
      "Epoch 298/400\n",
      "158/158 [==============================] - 1s 5ms/step - loss: 0.4235 - accuracy: 0.8190 - val_loss: 0.3096 - val_accuracy: 0.8456\n",
      "Epoch 299/400\n",
      "158/158 [==============================] - 1s 5ms/step - loss: 0.4085 - accuracy: 0.8228 - val_loss: 0.3026 - val_accuracy: 0.8557\n",
      "Epoch 300/400\n",
      "158/158 [==============================] - 1s 5ms/step - loss: 0.4367 - accuracy: 0.8101 - val_loss: 0.2980 - val_accuracy: 0.8658\n",
      "Epoch 301/400\n",
      "158/158 [==============================] - 1s 5ms/step - loss: 0.4245 - accuracy: 0.8167 - val_loss: 0.3008 - val_accuracy: 0.8557\n",
      "Epoch 302/400\n",
      "158/158 [==============================] - 1s 5ms/step - loss: 0.4238 - accuracy: 0.8220 - val_loss: 0.3108 - val_accuracy: 0.8591\n",
      "Epoch 303/400\n",
      "158/158 [==============================] - 1s 5ms/step - loss: 0.4215 - accuracy: 0.8194 - val_loss: 0.3161 - val_accuracy: 0.8423\n",
      "Epoch 304/400\n",
      "158/158 [==============================] - 1s 5ms/step - loss: 0.4171 - accuracy: 0.8170 - val_loss: 0.3083 - val_accuracy: 0.8490\n",
      "Epoch 305/400\n",
      "158/158 [==============================] - 1s 5ms/step - loss: 0.4218 - accuracy: 0.8182 - val_loss: 0.3052 - val_accuracy: 0.8591\n",
      "Epoch 306/400\n",
      "158/158 [==============================] - 1s 5ms/step - loss: 0.4164 - accuracy: 0.8206 - val_loss: 0.2986 - val_accuracy: 0.8624\n",
      "Epoch 307/400\n",
      "158/158 [==============================] - 1s 5ms/step - loss: 0.4286 - accuracy: 0.8169 - val_loss: 0.2914 - val_accuracy: 0.8691\n",
      "Epoch 308/400\n",
      "158/158 [==============================] - 1s 5ms/step - loss: 0.4095 - accuracy: 0.8220 - val_loss: 0.3160 - val_accuracy: 0.8490\n",
      "Epoch 309/400\n",
      "158/158 [==============================] - 1s 5ms/step - loss: 0.4076 - accuracy: 0.8212 - val_loss: 0.3029 - val_accuracy: 0.8624\n",
      "Epoch 310/400\n",
      "158/158 [==============================] - 1s 5ms/step - loss: 0.4156 - accuracy: 0.8204 - val_loss: 0.2928 - val_accuracy: 0.8725\n",
      "Epoch 311/400\n",
      "158/158 [==============================] - 1s 5ms/step - loss: 0.4294 - accuracy: 0.8170 - val_loss: 0.3039 - val_accuracy: 0.8523\n",
      "Epoch 312/400\n",
      "158/158 [==============================] - 1s 5ms/step - loss: 0.4238 - accuracy: 0.8178 - val_loss: 0.2914 - val_accuracy: 0.8624\n",
      "Epoch 313/400\n",
      "158/158 [==============================] - 1s 6ms/step - loss: 0.4104 - accuracy: 0.8234 - val_loss: 0.2974 - val_accuracy: 0.8624\n",
      "Epoch 314/400\n",
      "158/158 [==============================] - 1s 7ms/step - loss: 0.4120 - accuracy: 0.8220 - val_loss: 0.3053 - val_accuracy: 0.8557\n",
      "Epoch 315/400\n",
      "158/158 [==============================] - 1s 6ms/step - loss: 0.4241 - accuracy: 0.8218 - val_loss: 0.3021 - val_accuracy: 0.8691\n",
      "Epoch 316/400\n",
      "158/158 [==============================] - 1s 6ms/step - loss: 0.4173 - accuracy: 0.8238 - val_loss: 0.3002 - val_accuracy: 0.8758\n",
      "Epoch 317/400\n",
      "158/158 [==============================] - 1s 7ms/step - loss: 0.4169 - accuracy: 0.8192 - val_loss: 0.3022 - val_accuracy: 0.8624\n",
      "Epoch 318/400\n",
      "158/158 [==============================] - 1s 9ms/step - loss: 0.4312 - accuracy: 0.8113 - val_loss: 0.3014 - val_accuracy: 0.8758\n",
      "Epoch 319/400\n",
      "158/158 [==============================] - 1s 7ms/step - loss: 0.4282 - accuracy: 0.8182 - val_loss: 0.2941 - val_accuracy: 0.8792\n",
      "Epoch 320/400\n",
      "158/158 [==============================] - 1s 5ms/step - loss: 0.4187 - accuracy: 0.8115 - val_loss: 0.2985 - val_accuracy: 0.8624\n",
      "Epoch 321/400\n",
      "158/158 [==============================] - 1s 5ms/step - loss: 0.4247 - accuracy: 0.8224 - val_loss: 0.3046 - val_accuracy: 0.8591\n",
      "Epoch 322/400\n",
      "158/158 [==============================] - 1s 7ms/step - loss: 0.4187 - accuracy: 0.8222 - val_loss: 0.3021 - val_accuracy: 0.8523\n",
      "Epoch 323/400\n",
      "158/158 [==============================] - 1s 7ms/step - loss: 0.4072 - accuracy: 0.8228 - val_loss: 0.3016 - val_accuracy: 0.8624\n",
      "Epoch 324/400\n",
      "158/158 [==============================] - 1s 6ms/step - loss: 0.4095 - accuracy: 0.8271 - val_loss: 0.2949 - val_accuracy: 0.8557\n",
      "Epoch 325/400\n",
      "158/158 [==============================] - 1s 7ms/step - loss: 0.4205 - accuracy: 0.8188 - val_loss: 0.3097 - val_accuracy: 0.8490\n",
      "Epoch 326/400\n",
      "158/158 [==============================] - 1s 6ms/step - loss: 0.4177 - accuracy: 0.8212 - val_loss: 0.3053 - val_accuracy: 0.8523\n",
      "Epoch 327/400\n",
      "158/158 [==============================] - 2s 10ms/step - loss: 0.4309 - accuracy: 0.8176 - val_loss: 0.3180 - val_accuracy: 0.8389\n",
      "Epoch 328/400\n",
      "158/158 [==============================] - 2s 12ms/step - loss: 0.4200 - accuracy: 0.8174 - val_loss: 0.2998 - val_accuracy: 0.8557\n",
      "Epoch 329/400\n",
      "158/158 [==============================] - 1s 9ms/step - loss: 0.4101 - accuracy: 0.8277 - val_loss: 0.3040 - val_accuracy: 0.8624\n",
      "Epoch 330/400\n",
      "158/158 [==============================] - 1s 8ms/step - loss: 0.4269 - accuracy: 0.8174 - val_loss: 0.2975 - val_accuracy: 0.8591\n",
      "Epoch 331/400\n",
      "158/158 [==============================] - 1s 6ms/step - loss: 0.4281 - accuracy: 0.8165 - val_loss: 0.3105 - val_accuracy: 0.8423\n",
      "Epoch 332/400\n",
      "158/158 [==============================] - 1s 6ms/step - loss: 0.4109 - accuracy: 0.8238 - val_loss: 0.2948 - val_accuracy: 0.8691\n",
      "Epoch 333/400\n",
      "158/158 [==============================] - 1s 6ms/step - loss: 0.4058 - accuracy: 0.8256 - val_loss: 0.2979 - val_accuracy: 0.8658\n",
      "Epoch 334/400\n",
      "158/158 [==============================] - 1s 6ms/step - loss: 0.4309 - accuracy: 0.8149 - val_loss: 0.3046 - val_accuracy: 0.8557\n",
      "Epoch 335/400\n",
      "158/158 [==============================] - 1s 7ms/step - loss: 0.4088 - accuracy: 0.8224 - val_loss: 0.3135 - val_accuracy: 0.8523\n",
      "Epoch 336/400\n",
      "158/158 [==============================] - 2s 10ms/step - loss: 0.4207 - accuracy: 0.8184 - val_loss: 0.3064 - val_accuracy: 0.8557\n",
      "Epoch 337/400\n",
      "158/158 [==============================] - 1s 7ms/step - loss: 0.4150 - accuracy: 0.8147 - val_loss: 0.3005 - val_accuracy: 0.8658\n",
      "Epoch 338/400\n",
      "158/158 [==============================] - 1s 7ms/step - loss: 0.4242 - accuracy: 0.8169 - val_loss: 0.3150 - val_accuracy: 0.8523\n",
      "Epoch 339/400\n"
     ]
    },
    {
     "name": "stdout",
     "output_type": "stream",
     "text": [
      "158/158 [==============================] - 1s 5ms/step - loss: 0.4205 - accuracy: 0.8190 - val_loss: 0.3198 - val_accuracy: 0.8456\n",
      "Epoch 340/400\n",
      "158/158 [==============================] - 1s 5ms/step - loss: 0.4253 - accuracy: 0.8109 - val_loss: 0.3124 - val_accuracy: 0.8490\n",
      "Epoch 341/400\n",
      "158/158 [==============================] - 1s 5ms/step - loss: 0.4223 - accuracy: 0.8170 - val_loss: 0.3018 - val_accuracy: 0.8591\n",
      "Epoch 342/400\n",
      "158/158 [==============================] - 1s 5ms/step - loss: 0.4187 - accuracy: 0.8099 - val_loss: 0.3035 - val_accuracy: 0.8557\n",
      "Epoch 343/400\n",
      "158/158 [==============================] - 1s 6ms/step - loss: 0.4215 - accuracy: 0.8119 - val_loss: 0.3103 - val_accuracy: 0.8658\n",
      "Epoch 344/400\n",
      "158/158 [==============================] - 1s 5ms/step - loss: 0.4302 - accuracy: 0.8167 - val_loss: 0.3170 - val_accuracy: 0.8389\n",
      "Epoch 345/400\n",
      "158/158 [==============================] - 1s 5ms/step - loss: 0.4222 - accuracy: 0.8208 - val_loss: 0.3268 - val_accuracy: 0.8322\n",
      "Epoch 346/400\n",
      "158/158 [==============================] - 1s 5ms/step - loss: 0.4188 - accuracy: 0.8279 - val_loss: 0.3151 - val_accuracy: 0.8523\n",
      "Epoch 347/400\n",
      "158/158 [==============================] - 1s 5ms/step - loss: 0.4234 - accuracy: 0.8182 - val_loss: 0.3207 - val_accuracy: 0.8456\n",
      "Epoch 348/400\n",
      "158/158 [==============================] - 1s 6ms/step - loss: 0.4192 - accuracy: 0.8143 - val_loss: 0.3012 - val_accuracy: 0.8758\n",
      "Epoch 349/400\n",
      "158/158 [==============================] - 1s 9ms/step - loss: 0.4231 - accuracy: 0.8214 - val_loss: 0.3194 - val_accuracy: 0.8557\n",
      "Epoch 350/400\n",
      "158/158 [==============================] - 1s 5ms/step - loss: 0.4287 - accuracy: 0.8190 - val_loss: 0.3091 - val_accuracy: 0.8591\n",
      "Epoch 351/400\n",
      "158/158 [==============================] - 1s 8ms/step - loss: 0.4201 - accuracy: 0.8133 - val_loss: 0.3196 - val_accuracy: 0.8456\n",
      "Epoch 352/400\n",
      "158/158 [==============================] - 1s 8ms/step - loss: 0.4216 - accuracy: 0.8192 - val_loss: 0.3156 - val_accuracy: 0.8389\n",
      "Epoch 353/400\n",
      "158/158 [==============================] - 1s 7ms/step - loss: 0.4113 - accuracy: 0.8273 - val_loss: 0.3032 - val_accuracy: 0.8557\n",
      "Epoch 354/400\n",
      "158/158 [==============================] - 1s 9ms/step - loss: 0.4161 - accuracy: 0.8224 - val_loss: 0.3046 - val_accuracy: 0.8658\n",
      "Epoch 355/400\n",
      "158/158 [==============================] - 1s 9ms/step - loss: 0.4262 - accuracy: 0.8147 - val_loss: 0.3000 - val_accuracy: 0.8691\n",
      "Epoch 356/400\n",
      "158/158 [==============================] - 1s 7ms/step - loss: 0.4180 - accuracy: 0.8261 - val_loss: 0.3134 - val_accuracy: 0.8624\n",
      "Epoch 357/400\n",
      "158/158 [==============================] - 1s 7ms/step - loss: 0.4230 - accuracy: 0.8202 - val_loss: 0.3096 - val_accuracy: 0.8624\n",
      "Epoch 358/400\n",
      "158/158 [==============================] - 1s 7ms/step - loss: 0.4171 - accuracy: 0.8230 - val_loss: 0.2980 - val_accuracy: 0.8658\n",
      "Epoch 359/400\n",
      "158/158 [==============================] - 1s 7ms/step - loss: 0.4171 - accuracy: 0.8202 - val_loss: 0.3118 - val_accuracy: 0.8658\n",
      "Epoch 360/400\n",
      "158/158 [==============================] - 1s 6ms/step - loss: 0.4192 - accuracy: 0.8153 - val_loss: 0.3041 - val_accuracy: 0.8591\n",
      "Epoch 361/400\n",
      "158/158 [==============================] - 1s 7ms/step - loss: 0.4178 - accuracy: 0.8240 - val_loss: 0.3019 - val_accuracy: 0.8691\n",
      "Epoch 362/400\n",
      "158/158 [==============================] - 1s 6ms/step - loss: 0.4149 - accuracy: 0.8222 - val_loss: 0.3165 - val_accuracy: 0.8523\n",
      "Epoch 363/400\n",
      "158/158 [==============================] - 1s 6ms/step - loss: 0.4076 - accuracy: 0.8226 - val_loss: 0.3122 - val_accuracy: 0.8591\n",
      "Epoch 364/400\n",
      "158/158 [==============================] - 1s 6ms/step - loss: 0.4069 - accuracy: 0.8244 - val_loss: 0.3171 - val_accuracy: 0.8389\n",
      "Epoch 365/400\n",
      "158/158 [==============================] - 1s 6ms/step - loss: 0.4133 - accuracy: 0.8224 - val_loss: 0.3284 - val_accuracy: 0.8456\n",
      "Epoch 366/400\n",
      "158/158 [==============================] - 1s 6ms/step - loss: 0.4141 - accuracy: 0.8202 - val_loss: 0.3204 - val_accuracy: 0.8591\n",
      "Epoch 367/400\n",
      "158/158 [==============================] - 1s 6ms/step - loss: 0.4069 - accuracy: 0.8254 - val_loss: 0.3233 - val_accuracy: 0.8624\n",
      "Epoch 368/400\n",
      "158/158 [==============================] - 1s 7ms/step - loss: 0.4187 - accuracy: 0.8182 - val_loss: 0.3097 - val_accuracy: 0.8691\n",
      "Epoch 369/400\n",
      "158/158 [==============================] - 1s 5ms/step - loss: 0.4199 - accuracy: 0.8212 - val_loss: 0.3067 - val_accuracy: 0.8725\n",
      "Epoch 370/400\n",
      "158/158 [==============================] - 1s 6ms/step - loss: 0.4114 - accuracy: 0.8212 - val_loss: 0.2969 - val_accuracy: 0.8758\n",
      "Epoch 371/400\n",
      "158/158 [==============================] - 1s 6ms/step - loss: 0.4192 - accuracy: 0.8214 - val_loss: 0.3086 - val_accuracy: 0.8591\n",
      "Epoch 372/400\n",
      "158/158 [==============================] - 1s 6ms/step - loss: 0.4163 - accuracy: 0.8176 - val_loss: 0.3289 - val_accuracy: 0.8456\n",
      "Epoch 373/400\n",
      "158/158 [==============================] - 1s 5ms/step - loss: 0.4284 - accuracy: 0.8196 - val_loss: 0.3126 - val_accuracy: 0.8490\n",
      "Epoch 374/400\n",
      "158/158 [==============================] - 1s 6ms/step - loss: 0.4231 - accuracy: 0.8159 - val_loss: 0.3065 - val_accuracy: 0.8624\n",
      "Epoch 375/400\n",
      "158/158 [==============================] - 1s 5ms/step - loss: 0.4186 - accuracy: 0.8212 - val_loss: 0.3092 - val_accuracy: 0.8691\n",
      "Epoch 376/400\n",
      "158/158 [==============================] - 1s 6ms/step - loss: 0.4151 - accuracy: 0.8285 - val_loss: 0.3175 - val_accuracy: 0.8557\n",
      "Epoch 377/400\n",
      "158/158 [==============================] - 1s 6ms/step - loss: 0.4057 - accuracy: 0.8184 - val_loss: 0.3054 - val_accuracy: 0.8725\n",
      "Epoch 378/400\n",
      "158/158 [==============================] - 1s 6ms/step - loss: 0.4203 - accuracy: 0.8206 - val_loss: 0.3101 - val_accuracy: 0.8624\n",
      "Epoch 379/400\n",
      "158/158 [==============================] - 1s 6ms/step - loss: 0.4080 - accuracy: 0.8248 - val_loss: 0.3057 - val_accuracy: 0.8591\n",
      "Epoch 380/400\n",
      "158/158 [==============================] - 1s 6ms/step - loss: 0.4120 - accuracy: 0.8261 - val_loss: 0.3088 - val_accuracy: 0.8624\n",
      "Epoch 381/400\n",
      "158/158 [==============================] - 1s 6ms/step - loss: 0.4093 - accuracy: 0.8307 - val_loss: 0.3053 - val_accuracy: 0.8624\n",
      "Epoch 382/400\n",
      "158/158 [==============================] - 1s 6ms/step - loss: 0.4146 - accuracy: 0.8192 - val_loss: 0.3118 - val_accuracy: 0.8557\n",
      "Epoch 383/400\n",
      "158/158 [==============================] - 1s 6ms/step - loss: 0.4090 - accuracy: 0.8295 - val_loss: 0.3175 - val_accuracy: 0.8490\n",
      "Epoch 384/400\n",
      "158/158 [==============================] - 1s 7ms/step - loss: 0.4282 - accuracy: 0.8184 - val_loss: 0.3178 - val_accuracy: 0.8456\n",
      "Epoch 385/400\n",
      "158/158 [==============================] - 1s 6ms/step - loss: 0.4150 - accuracy: 0.8172 - val_loss: 0.2951 - val_accuracy: 0.8725\n",
      "Epoch 386/400\n",
      "158/158 [==============================] - 1s 6ms/step - loss: 0.4300 - accuracy: 0.8252 - val_loss: 0.3158 - val_accuracy: 0.8691\n",
      "Epoch 387/400\n",
      "158/158 [==============================] - 1s 6ms/step - loss: 0.4084 - accuracy: 0.8254 - val_loss: 0.3116 - val_accuracy: 0.8624\n",
      "Epoch 388/400\n",
      "158/158 [==============================] - 1s 6ms/step - loss: 0.4200 - accuracy: 0.8170 - val_loss: 0.3222 - val_accuracy: 0.8523\n",
      "Epoch 389/400\n",
      "158/158 [==============================] - 1s 7ms/step - loss: 0.4143 - accuracy: 0.8210 - val_loss: 0.2984 - val_accuracy: 0.8792\n",
      "Epoch 390/400\n",
      "158/158 [==============================] - 1s 6ms/step - loss: 0.4140 - accuracy: 0.8232 - val_loss: 0.3012 - val_accuracy: 0.8691\n",
      "Epoch 391/400\n",
      "158/158 [==============================] - 1s 6ms/step - loss: 0.4107 - accuracy: 0.8248 - val_loss: 0.2907 - val_accuracy: 0.8758\n",
      "Epoch 392/400\n",
      "158/158 [==============================] - 1s 6ms/step - loss: 0.4121 - accuracy: 0.8210 - val_loss: 0.2941 - val_accuracy: 0.8725\n",
      "Epoch 393/400\n",
      "158/158 [==============================] - 1s 6ms/step - loss: 0.4143 - accuracy: 0.8275 - val_loss: 0.3001 - val_accuracy: 0.8624\n",
      "Epoch 394/400\n",
      "158/158 [==============================] - 1s 6ms/step - loss: 0.4274 - accuracy: 0.8068 - val_loss: 0.3081 - val_accuracy: 0.8490\n",
      "Epoch 395/400\n",
      "158/158 [==============================] - 1s 5ms/step - loss: 0.4191 - accuracy: 0.8141 - val_loss: 0.3142 - val_accuracy: 0.8490\n",
      "Epoch 396/400\n",
      "158/158 [==============================] - 1s 5ms/step - loss: 0.4197 - accuracy: 0.8167 - val_loss: 0.3105 - val_accuracy: 0.8591\n",
      "Epoch 397/400\n",
      "158/158 [==============================] - 1s 5ms/step - loss: 0.4224 - accuracy: 0.8254 - val_loss: 0.3178 - val_accuracy: 0.8523\n",
      "Epoch 398/400\n",
      "158/158 [==============================] - 1s 5ms/step - loss: 0.4059 - accuracy: 0.8210 - val_loss: 0.3096 - val_accuracy: 0.8591\n",
      "Epoch 399/400\n",
      "158/158 [==============================] - 1s 5ms/step - loss: 0.4211 - accuracy: 0.8172 - val_loss: 0.3104 - val_accuracy: 0.8557\n",
      "Epoch 400/400\n",
      "158/158 [==============================] - 1s 5ms/step - loss: 0.4123 - accuracy: 0.8214 - val_loss: 0.2991 - val_accuracy: 0.8591\n"
     ]
    }
   ],
   "source": [
    "model_2 = CreateModel_2()\n",
    "history_2 = model_2.fit(X_train_scaled, y_train_n, validation_data= (X_valid_scaled, y_valid_n), batch_size=32, epochs=400)"
   ]
  },
  {
   "cell_type": "code",
   "execution_count": 79,
   "id": "907e2735",
   "metadata": {},
   "outputs": [
    {
     "data": {
      "image/png": "[encoded data removed]",
      "text/plain": [
       "<Figure size 640x480 with 1 Axes>"
      ]
     },
     "metadata": {},
     "output_type": "display_data"
    }
   ],
   "source": [
    "plt.plot(history_2.history['accuracy'], label = \"train\")\n",
    "plt.plot(history_2.history['val_accuracy'], label = \"test\")\n",
    "plt.plot(history_2.history['loss'], label = \"train\")\n",
    "plt.plot(history_2.history['val_loss'], label = \"test\")\n",
    "\n",
    "plt.legend()\n",
    "plt.show()"
   ]
  },
  {
   "cell_type": "code",
   "execution_count": 80,
   "id": "33953f53",
   "metadata": {},
   "outputs": [
    {
     "name": "stdout",
     "output_type": "stream",
     "text": [
      "40/40 [==============================] - 0s 3ms/step - loss: 0.3126 - accuracy: 0.8660\n"
     ]
    },
    {
     "data": {
      "text/plain": [
       "[0.312566876411438, 0.8659874796867371]"
      ]
     },
     "execution_count": 80,
     "metadata": {},
     "output_type": "execute_result"
    }
   ],
   "source": [
    "model_2.evaluate(X_test_scaled,y_test)"
   ]
  },
  {
   "cell_type": "code",
   "execution_count": 81,
   "id": "1fc04056",
   "metadata": {},
   "outputs": [
    {
     "name": "stdout",
     "output_type": "stream",
     "text": [
      "40/40 [==============================] - 0s 3ms/step\n"
     ]
    },
    {
     "data": {
      "text/plain": [
       "0.8659874608150471"
      ]
     },
     "execution_count": 81,
     "metadata": {},
     "output_type": "execute_result"
    }
   ],
   "source": [
    "metrics.accuracy_score(y_true= y_test, y_pred= (model_2.predict(X_test_scaled) > 0.5).astype(\"int32\") )"
   ]
  },
  {
   "cell_type": "markdown",
   "id": "db4736a6",
   "metadata": {},
   "source": [
    "Porównanie accuracy dla obu sieci neuronowych"
   ]
  },
  {
   "cell_type": "code",
   "execution_count": 82,
   "id": "738da974",
   "metadata": {},
   "outputs": [
    {
     "data": {
      "image/png": "[encoded data removed]",
      "text/plain": [
       "<Figure size 640x480 with 1 Axes>"
      ]
     },
     "metadata": {},
     "output_type": "display_data"
    }
   ],
   "source": [
    "plt.plot(history.history['accuracy'], label = \"train 1\")\n",
    "plt.plot(history.history['val_accuracy'], label = \"test 1\")\n",
    "plt.plot(history_2.history['accuracy'], label = \"train 2\")\n",
    "plt.plot(history_2.history['val_accuracy'], label = \"test n2\")\n",
    "\n",
    "plt.legend()\n",
    "plt.show()"
   ]
  },
  {
   "cell_type": "markdown",
   "id": "cce26e9f",
   "metadata": {},
   "source": [
    "Porównanie loss dla obu sieci neuronowych"
   ]
  },
  {
   "cell_type": "code",
   "execution_count": 83,
   "id": "01a13c3a",
   "metadata": {},
   "outputs": [
    {
     "data": {
      "image/png": "[encoded data removed]",
      "text/plain": [
       "<Figure size 640x480 with 1 Axes>"
      ]
     },
     "metadata": {},
     "output_type": "display_data"
    }
   ],
   "source": [
    "plt.plot(history.history['loss'], label = \"train 1\")\n",
    "plt.plot(history.history['val_loss'], label = \"test 1\")\n",
    "plt.plot(history_2.history['loss'], label = \"train 2\")\n",
    "plt.plot(history_2.history['val_loss'], label = \"test 2\")\n",
    "\n",
    "plt.legend()\n",
    "plt.show()"
   ]
  },
  {
   "cell_type": "markdown",
   "id": "77df947f",
   "metadata": {},
   "source": [
    "### Podsumowanie\n",
    "\n",
    "Pierwsza sieć uczyła się bez dodatkowych modyfikacji i usprawnień, w drugiej zastosowane zostały BatchNormalization oraz Dropout.\n",
    "\n",
    "Sieć neuronowa nr 1 lepiej uczyła się na mniejszej liczby warstw oraz epok (im więcej epok tym obserwowano większy overfitting - rosnące loss na teście)\n",
    "Natomiast sieć nr 2 osiągała wyższe wyniki na zwiększonej liczbie epok niż 1 oraz z użyciem większej liczby warstw."
   ]
  },
  {
   "cell_type": "code",
   "execution_count": null,
   "id": "e17b36c1",
   "metadata": {},
   "outputs": [],
   "source": []
  }
 ],
 "metadata": {
  "kernelspec": {
   "display_name": "venv",
   "language": "python",
   "name": "venv"
  },
  "language_info": {
   "codemirror_mode": {
    "name": "ipython",
    "version": 3
   },
   "file_extension": ".py",
   "mimetype": "text/x-python",
   "name": "python",
   "nbconvert_exporter": "python",
   "pygments_lexer": "ipython3",
   "version": "3.11.0"
  }
 },
 "nbformat": 4,
 "nbformat_minor": 5
}
